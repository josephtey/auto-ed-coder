{
 "cells": [
  {
   "cell_type": "code",
   "execution_count": null,
   "metadata": {},
   "outputs": [],
   "source": [
    "from classifier_model import BinaryClassifierModel"
   ]
  },
  {
   "cell_type": "code",
   "execution_count": null,
   "metadata": {},
   "outputs": [],
   "source": [
    "\n",
    "from shared.sae_actions import load_pretrained_sae, sae_featurize_data\n",
    "from shared.models import MiniPileDataset\n",
    "\n"
   ]
  },
  {
   "cell_type": "code",
   "execution_count": null,
   "metadata": {},
   "outputs": [],
   "source": [
    "import pandas as pd\n",
    "\n",
    "# Load training data\n",
    "train_data = pd.read_csv(\"../data_preparation/data/spam_messages_train.csv\")\n",
    "\n",
    "# Load validation data \n",
    "val_data = pd.read_csv(\"../data_preparation/data/spam_messages_val.csv\")\n",
    "\n",
    "\n"
   ]
  }
 ],
 "metadata": {
  "language_info": {
   "name": "python"
  }
 },
 "nbformat": 4,
 "nbformat_minor": 2
}
