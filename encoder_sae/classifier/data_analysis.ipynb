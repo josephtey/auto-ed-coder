{
 "cells": [
  {
   "cell_type": "code",
   "execution_count": 1,
   "metadata": {},
   "outputs": [
    {
     "name": "stderr",
     "output_type": "stream",
     "text": [
      "/home/ubuntu/joe/predictive-saes/encoder_sae/venv/lib/python3.10/site-packages/pydantic/_internal/_config.py:341: UserWarning: Valid config keys have changed in V2:\n",
      "* 'allow_mutation' has been removed\n",
      "  warnings.warn(message, UserWarning)\n"
     ]
    }
   ],
   "source": [
    "import sys\n",
    "sys.path.append(\"../../\")\n",
    "\n",
    "from shared.sae_actions import load_pretrained_sae, sae_featurize_data \n",
    "from shared.models import MiniPileDataset\n",
    "from shared.features import Feature, FeatureSample\n",
    "\n",
    "%load_ext autoreload\n",
    "%autoreload 2"
   ]
  },
  {
   "cell_type": "code",
   "execution_count": 2,
   "metadata": {},
   "outputs": [],
   "source": [
    "import glob\n",
    "import json\n",
    "import os\n",
    "\n",
    "def load_features(feature_dir):\n",
    "    \"\"\"Load features from JSON files and convert to Feature objects\"\"\"\n",
    "    # Get all JSON files from the features directory\n",
    "    feature_files = glob.glob(os.path.join(feature_dir, \"*.json\"))\n",
    "\n",
    "    # Load all feature JSONs into Feature objects\n",
    "    features = []\n",
    "    for file in feature_files:\n",
    "        with open(file) as f:\n",
    "            feature_dict = json.load(f)\n",
    "            \n",
    "            # Convert samples to FeatureSample objects\n",
    "            high_act_samples = [\n",
    "                FeatureSample(text=s[\"text\"], act=s[\"act\"]) \n",
    "                for s in feature_dict[\"high_act_samples\"]\n",
    "            ]\n",
    "            low_act_samples = [\n",
    "                FeatureSample(text=s[\"text\"], act=s[\"act\"])\n",
    "                for s in feature_dict[\"low_act_samples\"] \n",
    "            ]\n",
    "            \n",
    "            feature = Feature(\n",
    "                index=feature_dict[\"index\"],\n",
    "                label=feature_dict[\"label\"],\n",
    "                attributes=feature_dict[\"attributes\"],\n",
    "                reasoning=feature_dict[\"reasoning\"],\n",
    "                density=feature_dict[\"density\"],\n",
    "                confidence=feature_dict[\"confidence\"],\n",
    "                high_act_samples=high_act_samples,\n",
    "                low_act_samples=low_act_samples\n",
    "            )\n",
    "            features.append(feature)\n",
    "\n",
    "    # Sort features by index to maintain order\n",
    "    features.sort(key=lambda x: x.index)\n",
    "\n",
    "    # Extract labels and ids for easy reference\n",
    "    autointerp_feature_labels = [f.label for f in features]\n",
    "    autointerp_feature_ids = [f.index for f in features]\n",
    "\n",
    "    return features, autointerp_feature_labels, autointerp_feature_ids\n",
    "\n",
    "# Load features\n",
    "feature_dir = \"../feature_extraction/features/spam_messages_roberta_tied_weights\"\n",
    "features, autointerp_feature_labels, autointerp_feature_ids = load_features(feature_dir)\n"
   ]
  },
  {
   "cell_type": "code",
   "execution_count": 3,
   "metadata": {},
   "outputs": [
    {
     "name": "stderr",
     "output_type": "stream",
     "text": [
      "[nltk_data] Downloading package punkt to /home/ubuntu/nltk_data...\n",
      "[nltk_data]   Package punkt is already up-to-date!\n"
     ]
    }
   ],
   "source": [
    "import pandas as pd\n",
    "import numpy as np\n",
    "import nltk\n",
    "nltk.download('punkt')\n",
    "from nltk.tokenize import sent_tokenize\n",
    "\n",
    "def prepare_dataset(sentences_file, embeddings_file, sae, autointerp_feature_ids=None, feature_registry_file=\"feature_registry.npy\", label_column='label', text_key=\"text\", split_sentences=True):\n",
    "    # Load dataset\n",
    "    df = pd.read_csv(sentences_file)\n",
    "    \n",
    "    # Create MiniPileDataset\n",
    "    mini_pile_dataset = MiniPileDataset(sentences_file, embeddings_file, key=text_key)\n",
    "    \n",
    "    # Featurize data\n",
    "    try:\n",
    "        X = np.memmap(\n",
    "            feature_registry_file,\n",
    "            dtype=\"float32\",\n",
    "            mode=\"r\",\n",
    "            shape=(sae.encoder.weight.shape[0], len(mini_pile_dataset.sentences)),\n",
    "        )\n",
    "    except FileNotFoundError:\n",
    "        X = sae_featurize_data(mini_pile_dataset, sae, output_file=feature_registry_file)\n",
    "    \n",
    "    X = X.T\n",
    "    \n",
    "    # Apply num_features if specified\n",
    "    if autointerp_feature_ids is not None:\n",
    "        X = X[:, autointerp_feature_ids]\n",
    "    \n",
    "    y = np.where(df[label_column] == 'ham', 0, 1)\n",
    "    \n",
    "    if split_sentences:\n",
    "        X_split = []\n",
    "        y_split = []\n",
    "        for i, text in enumerate(df[text_key]):\n",
    "            sentences = sent_tokenize(text)\n",
    "            X_split.extend([X[i]] * len(sentences))\n",
    "            y_split.extend([y[i]] * len(sentences))\n",
    "        X = np.array(X_split)\n",
    "        y = np.array(y_split)\n",
    "    \n",
    "    return X, y"
   ]
  },
  {
   "cell_type": "code",
   "execution_count": 4,
   "metadata": {},
   "outputs": [],
   "source": [
    "# Load SAE\n",
    "sae = load_pretrained_sae(\"../training_sae/saes/spam_messages_roberta_tied_weights_20241206_111202\")"
   ]
  },
  {
   "cell_type": "code",
   "execution_count": 5,
   "metadata": {},
   "outputs": [],
   "source": [
    "sentences_file = \"../data_preparation/data/spam_messages_test.csv\"\n",
    "embeddings_file = \"../data_preparation/embedding_chunks/embedded_chunks/spam_test_item_20241206_220900/embeddings.npy\"\n",
    "X_test, y_test = prepare_dataset(sentences_file, embeddings_file, sae, autointerp_feature_ids=autointerp_feature_ids, feature_registry_file=\"feature_registry_test_all.npy\", split_sentences=False)"
   ]
  },
  {
   "cell_type": "code",
   "execution_count": 31,
   "metadata": {},
   "outputs": [],
   "source": [
    "import matplotlib.pyplot as plt\n",
    "import numpy as np\n",
    "\n",
    "def plot_feature_distribution(X_test, y_test, idx, bins=100):\n",
    "    # Separate the feature values by class\n",
    "    ham_values = X_test[y_test == 0, idx]\n",
    "    spam_values = X_test[y_test == 1, idx]\n",
    "    \n",
    "    # Create histogram with specified x-axis range\n",
    "    plt.figure(figsize=(10, 6))\n",
    "    plt.hist(ham_values, bins=bins, alpha=0.5, label='Ham', density=False, range=(0.000, 5))\n",
    "    plt.hist(spam_values, bins=bins, alpha=0.5, label='Spam', density=False, range=(0.000, 5))\n",
    "    \n",
    "    plt.xlabel(f'Activation Value')\n",
    "    plt.ylabel('Count')\n",
    "    plt.title(f'Feature: {autointerp_feature_labels[idx]}')\n",
    "    plt.legend()\n",
    "    plt.grid(True, alpha=0.3)\n",
    "    plt.show()"
   ]
  },
  {
   "cell_type": "code",
   "execution_count": 22,
   "metadata": {},
   "outputs": [
    {
     "data": {
      "text/plain": [
       "2104"
      ]
     },
     "execution_count": 22,
     "metadata": {},
     "output_type": "execute_result"
    }
   ],
   "source": [
    "feature"
   ]
  },
  {
   "cell_type": "code",
   "execution_count": 32,
   "metadata": {},
   "outputs": [
    {
     "data": {
      "image/png": "[encoded data removed]",
      "text/plain": [
       "<Figure size 1000x600 with 1 Axes>"
      ]
     },
     "metadata": {},
     "output_type": "display_data"
    }
   ],
   "source": [
    "plot_feature_distribution(X_test, y_test, 0)"
   ]
  },
  {
   "cell_type": "code",
   "execution_count": null,
   "metadata": {},
   "outputs": [],
   "source": []
  }
 ],
 "metadata": {
  "kernelspec": {
   "display_name": "venv",
   "language": "python",
   "name": "python3"
  },
  "language_info": {
   "codemirror_mode": {
    "name": "ipython",
    "version": 3
   },
   "file_extension": ".py",
   "mimetype": "text/x-python",
   "name": "python",
   "nbconvert_exporter": "python",
   "pygments_lexer": "ipython3",
   "version": "3.10.12"
  }
 },
 "nbformat": 4,
 "nbformat_minor": 2
}
