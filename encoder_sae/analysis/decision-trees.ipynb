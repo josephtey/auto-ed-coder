{
 "cells": [
  {
   "cell_type": "code",
   "execution_count": 2,
   "metadata": {},
   "outputs": [
    {
     "data": {
      "text/plain": [
       "True"
      ]
     },
     "execution_count": 2,
     "metadata": {},
     "output_type": "execute_result"
    }
   ],
   "source": [
    "from dotenv import load_dotenv\n",
    "import os\n",
    "\n",
    "load_dotenv()"
   ]
  },
  {
   "cell_type": "code",
   "execution_count": 3,
   "metadata": {},
   "outputs": [],
   "source": [
    "from datasets import load_dataset\n",
    "\n",
    "ds = load_dataset(\"CyberNative/Code_Vulnerability_Security_DPO\")\n",
    "df = ds['train']\n"
   ]
  },
  {
   "cell_type": "code",
   "execution_count": 4,
   "metadata": {},
   "outputs": [],
   "source": [
    "variant = goodfire.Variant(\"meta-llama/Meta-Llama-3.1-70B-Instruct\")"
   ]
  },
  {
   "cell_type": "code",
   "execution_count": 10,
   "metadata": {},
   "outputs": [],
   "source": [
    "# Convert rejected and chosen examples into dataframes\n",
    "import random\n",
    "import pandas as pd\n",
    "random.seed(42)\n",
    "\n",
    "# Create dataframe for rejected (vulnerable) examples\n",
    "positive_examples = pd.DataFrame({\n",
    "    'text': df['rejected'],\n",
    "    'vulnerability': df['vulnerability'], \n",
    "    'question': df['question']\n",
    "})\n",
    "\n",
    "# Create dataframe for chosen (safe) examples  \n",
    "negative_examples = pd.DataFrame({\n",
    "    'text': df['chosen'],\n",
    "    'vulnerability': df['vulnerability'],\n",
    "    'question': df['question']\n",
    "})\n",
    "\n",
    "# Shuffle the dataframes\n",
    "positive_examples = positive_examples.sample(frac=1, random_state=42)\n",
    "negative_examples = negative_examples.sample(frac=1, random_state=42)\n",
    "\n",
    "FEATURE_COMPUTE_SIZE = 20\n",
    "CLASSIFIER_FULL_SET_SIZE = 150"
   ]
  },
  {
   "cell_type": "code",
   "execution_count": 102,
   "metadata": {},
   "outputs": [
    {
     "data": {
      "text/plain": [
       "FeatureGroup([\n",
       "   0: \"Potentially harmful or malicious code requests that should be rejected\",\n",
       "   1: \"Security vulnerabilities and exploitable weaknesses in systems\",\n",
       "   2: \"Offensive security techniques and exploit descriptions\",\n",
       "   3: \"Discussions of executing potentially malicious code or exploits\",\n",
       "   4: \"Technical descriptions of security vulnerabilities and exploits\",\n",
       "   5: \"Technical uses of injection across security vulnerabilities and legitimate applications\",\n",
       "   6: \"Code will throw an exception or error\",\n",
       "   7: \"Discussions of vulnerability and susceptibility to harm\",\n",
       "   8: \"Security warning in technical documentation\",\n",
       "   ...\n",
       "   199: \"Syntactic equality comparison operators in programming languages\"\n",
       "])"
      ]
     },
     "execution_count": 102,
     "metadata": {},
     "output_type": "execute_result"
    }
   ],
   "source": [
    "vulnerable_features, safe_features = client.features.contrast(\n",
    "    dataset_1=[\n",
    "      [\n",
    "          {\"role\": \"user\", \"content\": f\"Is the following code vulnerable or safe? {text}\"},\n",
    "          {\"role\": \"assistant\", \"content\": \"vulnerable\"}\n",
    "      ] for text in positive_examples[0:FEATURE_COMPUTE_SIZE]['text'].tolist()\n",
    "    ],\n",
    "    dataset_2=[\n",
    "      [\n",
    "          {\"role\": \"user\", \"content\": f\"Is the following code vulnerable or safe? {text}\"},\n",
    "          {\"role\": \"assistant\", \"content\": \"safe\"}\n",
    "      ] for text in negative_examples[0:FEATURE_COMPUTE_SIZE]['text'].tolist()\n",
    "    ],\n",
    "    dataset_1_feature_rerank_query=\"vulnerable code\",\n",
    "    dataset_2_feature_rerank_query=\"code\",\n",
    "    model=variant,\n",
    "    top_k=100\n",
    ")\n",
    "features_to_look_at = vulnerable_features | safe_features\n",
    "features_to_look_at"
   ]
  },
  {
   "cell_type": "code",
   "execution_count": 104,
   "metadata": {},
   "outputs": [
    {
     "data": {
      "text/plain": [
       "['e845a8d0-5fc8-4948-9c90-311a2937ac86',\n",
       " 'a0ddefd1-ebf8-40f7-acf1-539597953827',\n",
       " '9aee40ff-8016-482c-9696-aba49f4842a7',\n",
       " '10eb4296-e867-4bdb-9ae1-38b51cac545e',\n",
       " '857150f3-7a09-45dc-9144-c415d937a973',\n",
       " 'c70009bd-2305-4cbd-a09a-3fc3cdc2ee62',\n",
       " '91d01ece-d092-4345-84b8-2ead5247dc25',\n",
       " 'b3aa8cd6-95c5-4bfc-a6ad-e8098f386034',\n",
       " 'd49d0fd1-9d75-461c-8a1d-aa4d692393f6',\n",
       " '6ddc3fcc-b789-4f36-a251-77c117c20c37',\n",
       " '7dd36d05-c22c-4fd6-8de9-116d6d90e468',\n",
       " 'be41c532-498f-456f-97d2-6359322d22bd',\n",
       " '550eca35-81f3-46dc-9137-e8b08aedb0a9',\n",
       " '38ce884c-6af6-4243-b9a6-5a95db045d1b',\n",
       " 'decd3825-a5f1-4a57-add3-71ae5215b99b',\n",
       " '4f574bc5-7079-4038-b1ef-bbfa49d01668',\n",
       " 'f30fe8f4-781b-4149-9be9-39031e14d931',\n",
       " 'c9f449f7-0401-4580-9975-71a96aa21115',\n",
       " '80669299-e5bc-4934-89e0-d2423dbe8279',\n",
       " 'de5e3c52-94e0-4d33-8824-d1e7a1248f47',\n",
       " '2519baeb-533a-4da2-8d6a-0e139557f7a7',\n",
       " '855734fe-a0d3-483c-9416-bc0f95e411b6',\n",
       " 'f2ee27e1-cca6-446c-8d19-44b041f5dfa4',\n",
       " '480ce1f0-69b4-4c27-848b-3444c255f348',\n",
       " '3e39aa95-ee41-4224-a18c-9a0bb37868ad',\n",
       " '9c449db3-1b2e-4258-99ef-58ca1fad3f73',\n",
       " '0c4b4ffa-29ca-4eab-94ca-a66871dff2e2',\n",
       " '7eb779ca-561c-4a68-ac4d-3e367f9328aa',\n",
       " 'da298590-6135-4c91-a9fb-a75baea48cef',\n",
       " '235cb931-8b2c-483f-88e4-d659109ac41b',\n",
       " 'd1f1a5c0-3ee6-46d4-9a18-5c8989e01732',\n",
       " '775c6cb5-6f30-4362-a5ee-f8f894aefe31',\n",
       " 'afb749d7-26e4-4041-9b16-c32069859f68',\n",
       " 'f75d37d4-ec37-4b85-80f0-340e28c35501',\n",
       " '8880c9ac-fc39-44e3-a281-b2b8547e45a1',\n",
       " '8873cf1e-c9fd-4228-a963-ce613971db36',\n",
       " '47648ac6-2276-4034-9708-2d9e56ea5bbf',\n",
       " '7a849823-574e-48f0-9f10-52566e37ca5c',\n",
       " 'c4f16e79-f2a5-4b17-b68a-8286c6d17302',\n",
       " '52ecda71-12ce-46a7-a64f-6a3266ed0d27',\n",
       " '87a011cf-c87c-410e-a0a1-c4b9547ea867',\n",
       " '6538023a-5293-4130-9844-2b7c349a46e8',\n",
       " '4ad821cf-e0ce-4039-8a0d-23bfb447aea1',\n",
       " '4b0e30d6-6dba-4df8-a4d5-a127c630810b',\n",
       " '81678928-9ba9-4711-aebe-dde066feb08f',\n",
       " 'c8e28343-7488-4487-bc35-68aa4b44c799',\n",
       " '7be08eb4-7cb1-4a3b-8a7c-79d84df4ac8d',\n",
       " '39dae54a-90a1-41ab-9c3b-19b233ad0b09',\n",
       " '07487a11-8291-4642-8d82-98c7afbf5773',\n",
       " 'c8eb14b7-329e-4a73-90f5-01f9c5a2dc12',\n",
       " 'f4e8650c-b49d-40b2-a519-f87ed271faca',\n",
       " 'c143967d-4d0e-4a02-a659-1b2ec108bfa6',\n",
       " '7749aa00-76dc-4a54-b715-215e2fbf9229',\n",
       " 'b227544d-371d-4389-ba69-97b0bd9519d0',\n",
       " 'dc4f1d41-9f5a-4875-9d69-906406e0226b',\n",
       " 'b9c15f21-8196-4739-b89c-a7b7179edccf',\n",
       " '6b8184d0-9387-4b8c-984f-9f617b5cbdb5',\n",
       " '9febb7be-edba-43bb-beda-006e31d616b7',\n",
       " '84610343-c656-4d12-8a1f-343ab3b2efa9',\n",
       " 'a66bfe34-5c7f-41aa-bc28-2aa1164e3ffc',\n",
       " '3a811c42-60ea-48ce-9d01-8baab5b721a0',\n",
       " 'e5be21f3-dc26-407a-a580-5df72d0954d8',\n",
       " '0014921e-04b3-41aa-aca0-9a3e29911c5b',\n",
       " 'd4287a65-d7b5-4c50-bffc-d90386bf5c58',\n",
       " '9b4f0b0e-2927-4521-bdba-c113a286f32a',\n",
       " '4ad1cd31-418c-466e-8b01-2ad66ea4123c',\n",
       " '74fe57f4-82db-49e1-bc6a-77c6ca99d4f3',\n",
       " '7f093ebe-d416-45f7-8741-3741be51564c',\n",
       " '4ecfe1ff-948b-4f6b-83ba-47f911fbb966',\n",
       " '5ab08f42-4a5b-4045-82fd-166dc0ca9b74',\n",
       " '1967eeb6-5d0e-4935-bb3d-0ee88391ad3e',\n",
       " '860ad48b-5a1d-442a-a5a9-148fdb342fa9',\n",
       " 'd7fff543-be71-48f6-bb98-0236e30aeb38',\n",
       " 'a3c6c21c-436b-4ba4-8a37-aa50c24f2d3a',\n",
       " '395f4298-b359-4eb2-b1a5-53092ceab913',\n",
       " '597a6d07-5304-4477-8a4a-3cf70182f0b9',\n",
       " '2788045a-ea85-48d2-b441-e591f22e2ed2',\n",
       " '9f90bd05-4ce9-407f-a1ab-e874d7d66659',\n",
       " 'a2815d81-e9c2-4cd3-9e35-c0d730be024d',\n",
       " '2d26f105-701d-4052-8670-5755c2e8d1b9',\n",
       " '0cea5612-97ad-417c-9887-8b597be3f13b',\n",
       " 'a56330a6-a5d6-4155-9558-f14c63809dc2',\n",
       " 'bcc7a4e3-d3a0-4e23-8113-b6dcf07d7984',\n",
       " '12a12aff-1a10-4976-9b8f-179d382ba6d7',\n",
       " 'c0122e84-5d20-45ee-bdc4-f2e5155e6325',\n",
       " 'd265dcb8-3b74-4d24-8b5c-71a3ee4909c4',\n",
       " '035fcaaa-e9bc-42c4-8c52-394d99c36bc4',\n",
       " '5100cad7-8730-470e-bc9c-305f38e7d79d',\n",
       " 'efa52e85-2bb3-46b0-892e-6a539f0293c4',\n",
       " 'e319fef0-0581-40f2-9083-cf6ac18939a3',\n",
       " '5137c10d-3226-4834-9a30-dfec2a4921ff',\n",
       " 'a7e20797-149d-4088-801f-7c9417ab54aa',\n",
       " '2ec4ac39-1701-455c-8ab7-506b890be885',\n",
       " 'd5f8e7b1-1329-41cb-a500-ea0da32f1ae2',\n",
       " '51314f86-0372-424d-8b34-15beb96316c0',\n",
       " 'ff21e44b-1a81-47c7-aa42-3d952e787093',\n",
       " '541e7324-f4f2-4cc4-b98c-a75e4d80b39b',\n",
       " 'b68a26fa-d624-439c-8426-1e842edf4d62',\n",
       " '881b3a3a-e79a-4d29-8eaf-fd36da79f32a',\n",
       " 'da799069-14c8-47fc-94c2-a46817487042',\n",
       " '2223845b-4341-49e5-9995-3196c208485d',\n",
       " '9df18620-256d-4fa0-a021-888b0817ab0e',\n",
       " '7f620f22-fe9d-4596-8e2c-9a45adf7adf1',\n",
       " 'e1491508-3ba9-4a89-b9be-bf1b0e9c229e',\n",
       " 'b795ebf8-5776-438d-986d-f8476b16eedb',\n",
       " '5e61eab0-6d67-4b3f-9eaa-4c711d7e6756',\n",
       " 'e21f3629-0858-4157-a861-ff9b8dbc58f4',\n",
       " '23512e14-c9ba-4686-9f62-c2c4982efb14',\n",
       " '6ae9e358-b42b-4077-bfd9-abb6e58540ff',\n",
       " 'cbcc7db8-8708-4bd7-86b8-490c5b8cbb6d',\n",
       " '8bd37716-c74c-494f-a555-1037f0eb0344',\n",
       " 'f37a0a4d-31f5-43b4-aacd-66c0c7363603',\n",
       " '3d2b2063-05cc-4a32-9ac3-e97a467fa948',\n",
       " 'd5d805fe-7181-49b5-9410-b360594dac80',\n",
       " '702103f6-b66a-49b7-8bdc-e67676862f9c',\n",
       " '175ae9c2-7524-4d6c-9e1a-42459cadd564',\n",
       " 'd801075e-4f1a-4afa-95c8-68612a73efd4',\n",
       " 'b3da96a6-4073-4168-93a1-aaf817842e8e',\n",
       " '0d477cc5-243e-4baa-85b1-829e9eb29a1d',\n",
       " 'a56cc632-1f98-4468-a1cc-47b7edab8e53',\n",
       " '343f3029-3193-43e6-a36f-25fafd186f47',\n",
       " 'e81e3acd-448c-4c5d-8a60-7b084e61bafe',\n",
       " '0a7bf07e-d2d9-4e3c-bf99-e2c81d3d643b',\n",
       " '1400bed8-4674-40de-a2d5-9059627142af',\n",
       " '56b40e21-6f34-454a-a17a-c7f6f460648e',\n",
       " 'c73297f3-26ce-49fa-8af1-f22471634ca9',\n",
       " '18d0e239-a429-4742-b3a6-b76fe3d02f2c',\n",
       " 'd2e8ba63-be06-4304-8857-c3b4610f6597',\n",
       " '1a2c60d6-37b0-4ed1-96f9-0d2f8fc50230',\n",
       " '3c4c4053-6161-440a-9105-131c82418cbf',\n",
       " '89747292-8acc-4940-a59d-16be3fb1d665',\n",
       " 'c5cc0ed2-4758-4164-8ea7-0080198defb4',\n",
       " 'ad39e278-f835-44e5-be9c-84031ee3195b',\n",
       " '9bb17031-2dfa-4fc2-9182-a3da40a806ac',\n",
       " 'e0e8a6c4-58fd-4888-bd53-1b5630db1218',\n",
       " 'efeecbc6-1203-47c1-ab74-2938da35d13d',\n",
       " '9c6d06c0-fcf0-4e44-b120-99458387becd',\n",
       " '1b1e1ec8-5084-4e6a-92c7-9c99230572a9',\n",
       " 'a7cd2d21-9b53-4594-86a1-66cacb865376',\n",
       " 'fa9ce9a3-93e6-41a1-9aa3-63b0c928d57e',\n",
       " '0a292b82-ff57-478f-8758-fd8d9d4c51ea',\n",
       " '0eab4efc-026b-4ccb-a4c4-75cf1b8e5716',\n",
       " '3b6a3005-7082-4f6d-a423-1c77b923ffe9',\n",
       " 'dc83d929-e024-40a7-ba48-26df628b3818',\n",
       " '9e487469-b748-4673-bff6-cbb2f70b616c',\n",
       " 'c0b8f039-f29c-4030-b8fb-a56374830cb3',\n",
       " '6be4b39e-cb56-44eb-b7c0-dbec0b655e57',\n",
       " '3edf6028-8d07-481b-bf71-be03a315f786',\n",
       " '10fe2662-ae33-4f1b-98ed-db7366b1b166',\n",
       " 'c518610a-2bfe-4c37-b984-b9b826e88eeb',\n",
       " 'ab8d2363-53ca-414d-9514-63b2eeed73f8',\n",
       " '088452a0-1794-4e24-8938-4753184afb9d',\n",
       " '099062ab-eff1-468d-b52b-b2d89a90d67f',\n",
       " '810b0082-3824-4ebb-bf15-ed7da6bf263d',\n",
       " 'f7d146df-41f2-4d70-881a-e8ce8821960d',\n",
       " 'baa449fe-7767-4a00-a34d-acb26f7d30b4',\n",
       " '5d9c061a-35c1-4d2a-a7a6-d0878e386fec',\n",
       " '70fbe42d-aee0-474f-8f1f-18acdcb4ec16',\n",
       " 'e89cece5-6e1d-4b07-b60c-d538c6e8047f',\n",
       " '3290c2c1-12f7-4144-b1b5-8d23dc8ac727',\n",
       " 'd5a2bf26-25b3-4c24-bbb5-a5670d1067d3',\n",
       " 'd8163ae2-1a1c-417f-a157-2dfbf1fca4ba',\n",
       " '561d09cf-7d40-4f84-8951-a9c7dce402a8',\n",
       " 'faeaf4a9-8e9f-4e12-9677-c80e753cbf06',\n",
       " '30357944-2609-4bfd-a1a8-5709402ca6a3',\n",
       " 'b6f63c2e-6471-4fb0-ad76-e365a3f8a09f',\n",
       " '898f0d0c-985d-4f64-8088-2e828d11a655',\n",
       " '33030825-56c4-4abe-b92a-6b8ebbaf9494',\n",
       " 'cdad7182-f47b-4e0d-ae1e-ec6597a56618',\n",
       " 'dc10490f-33fd-483f-b39f-81fd157323ba',\n",
       " '71c6d125-8b87-498a-b0df-c2302e84ba09',\n",
       " '7e45addf-22fb-4040-91e8-544235f873a0',\n",
       " 'e1e7b4a0-670a-4da9-b3ec-5678f906829f',\n",
       " '71c64912-a48d-4aec-84ad-5612117d44d5',\n",
       " 'c0aa32db-d432-4f61-956e-34ecd245e272',\n",
       " '43e865b8-921c-4145-8fac-0b4d5d90a11d',\n",
       " '22cf0b7b-97dd-4a4b-a828-11c8781714cc',\n",
       " '1d214222-c233-4273-ae57-5f69a73af87c',\n",
       " 'b576c27d-6250-4412-8818-00c4bcbe2521',\n",
       " '76b41c25-6ecd-4c2d-9540-368d1b698dc5',\n",
       " '2c6b432a-ed91-44ca-8934-f9d3d0bb285e',\n",
       " 'c0a1fbbb-5062-43a2-9e3e-aff2cc549e95',\n",
       " '6f0b2136-f23c-4051-bd1c-f4c17846cbc5',\n",
       " '632f6766-818d-4ed2-ae20-c140035c8be8',\n",
       " '29ffbc6f-0bc4-4053-8f8a-cb7e270955f1',\n",
       " '32c2cc65-1f71-4e00-8cc0-286cdf651f94',\n",
       " '51a9cb9c-7978-410d-8beb-3fb45bcdf5ff',\n",
       " 'bdbe52e9-2255-4f78-a01a-1fd443f2a196',\n",
       " 'ce78636b-8137-45d2-b93e-6b83803770b9',\n",
       " '726dfacf-f74a-4426-a361-9f4a7cc7011a',\n",
       " '746ca5f6-9235-4b5e-bba6-505c581b32c6',\n",
       " '2c1ae680-0513-4e8f-88b2-99f54c6ecfe1',\n",
       " '09ee31d0-6d3f-43dc-94a6-32763638b327',\n",
       " '382149fb-50aa-4b13-b3ea-5e43126da148',\n",
       " '5d76c6bd-444c-4693-a9e2-9a8971703607',\n",
       " 'b2c26e57-db70-4a3a-ae55-387029805ee3',\n",
       " 'c10efe49-71ae-461f-b086-178a69067e8d',\n",
       " '25c56074-4fd3-4e70-a957-d587628f2feb',\n",
       " '72ea0f1a-1941-4e30-b4f6-755dcab708b3',\n",
       " '21211975-2201-4b3c-8474-45a51b20f403']"
      ]
     },
     "execution_count": 104,
     "metadata": {},
     "output_type": "execute_result"
    }
   ],
   "source": [
    "[str(feature.uuid) for feature in features_to_look_at]\n"
   ]
  },
  {
   "cell_type": "code",
   "execution_count": 86,
   "metadata": {},
   "outputs": [],
   "source": [
    "features_to_look_at = client.features.list([\n",
    "    'd3ca5198-d57a-4a04-b881-1944f3acee87',\n",
    "    'f494a18d-df50-43d7-ae83-44c9125a263e', \n",
    "    'be4c7056-f932-4c08-8e72-57a55bf710f7',\n",
    "    '9b5af293-c41f-4edd-8c8a-466d71974231',\n",
    "    '3905b455-64fc-4c63-91f9-d2842f2bedfa',\n",
    "    '9bd07add-b989-4051-980a-2a3cd341ee0c',\n",
    "    'f2c7f5ce-ec37-477e-87dd-6312afc582b8',\n",
    "    'edaf8bb2-c001-4bf8-8b1c-5dc0f785976c',\n",
    "    '2734b2c0-ef4a-47ff-9836-9d359ff3e543',\n",
    "    '4d3559cc-aeb2-4e28-80b8-ce9951b2a9bf',\n",
    "    '77a70223-307d-43eb-b9f8-5123c969afa5'\n",
    "])"
   ]
  },
  {
   "cell_type": "code",
   "execution_count": 13,
   "metadata": {},
   "outputs": [],
   "source": [
    "from itertools import combinations\n",
    "\n",
    "\n",
    "class FeatureMixer:\n",
    "  def __init__(self, feature_group):\n",
    "    self.feature_group = feature_group\n",
    "\n",
    "  def grid(self, k_features_per_combo: int =2):\n",
    "    \"\"\"Perform a grid search over all possible combinations of features\"\"\"\n",
    "\n",
    "    # Get all possible combinations of features\n",
    "    return list(combinations(self.feature_group, k_features_per_combo))\n"
   ]
  },
  {
   "cell_type": "code",
   "execution_count": 82,
   "metadata": {},
   "outputs": [
    {
     "name": "stdout",
     "output_type": "stream",
     "text": [
      "Computing positive features...\n"
     ]
    },
    {
     "name": "stderr",
     "output_type": "stream",
     "text": [
      "  0%|          | 0/150 [00:00<?, ?it/s]"
     ]
    },
    {
     "name": "stderr",
     "output_type": "stream",
     "text": [
      "100%|██████████| 150/150 [00:56<00:00,  2.63it/s]\n"
     ]
    },
    {
     "name": "stdout",
     "output_type": "stream",
     "text": [
      "Computing negative features...\n"
     ]
    },
    {
     "name": "stderr",
     "output_type": "stream",
     "text": [
      "100%|██████████| 150/150 [01:03<00:00,  2.36it/s]\n"
     ]
    }
   ],
   "source": [
    "import pandas as pd\n",
    "import concurrent.futures as futures\n",
    "import tqdm\n",
    "\n",
    "CLASSIFIER_FULL_SET_SIZE = 150\n",
    "def _get_feature_acts_for_sample_class(\n",
    "    sample_class: pd.DataFrame,\n",
    "    features_to_use_for_classification: goodfire.FeatureGroup,\n",
    "    k=len(features_to_look_at),\n",
    "):\n",
    "    if k < len(features_to_use_for_classification):\n",
    "        raise ValueError(\"k must be greater than the number of features to use for classification\")\n",
    "\n",
    "    def process_row(row):\n",
    "        text = row['text']\n",
    "        context = client.features.inspect(\n",
    "            [\n",
    "                {\n",
    "                    \"role\": \"user\",\n",
    "                    \"content\": f\"Is the following Python code vulnerable or safe? {text}\"\n",
    "                }\n",
    "            ],\n",
    "            model=variant,\n",
    "            features=features_to_use_for_classification,\n",
    "        )\n",
    "        return context.top(k=k)\n",
    "\n",
    "    samples = []\n",
    "    with futures.ThreadPoolExecutor(max_workers=4) as executor:\n",
    "        future_to_row = {executor.submit(process_row, row): row for _, row in sample_class[0:CLASSIFIER_FULL_SET_SIZE].iterrows()}\n",
    "        for future in tqdm.tqdm(futures.as_completed(future_to_row), total=len(future_to_row)):\n",
    "            samples.append(future.result())\n",
    "\n",
    "    return samples\n",
    "\n",
    "print(\"Computing positive features...\")\n",
    "positive_class_features = _get_feature_acts_for_sample_class(positive_examples, features_to_look_at, k=100)\n",
    "\n",
    "print(\"Computing negative features...\")\n",
    "negative_class_features = _get_feature_acts_for_sample_class(negative_examples, features_to_look_at, k=100)\n"
   ]
  },
  {
   "cell_type": "code",
   "execution_count": 109,
   "metadata": {},
   "outputs": [
    {
     "data": {
      "text/plain": [
       "FeatureGroup([\n",
       "   0: \"Potentially harmful or malicious code requests that should be rejected\",\n",
       "   1: \"Security vulnerabilities and exploitable weaknesses in systems\",\n",
       "   2: \"Offensive security techniques and exploit descriptions\",\n",
       "   3: \"Discussions of executing potentially malicious code or exploits\",\n",
       "   4: \"Technical descriptions of security vulnerabilities and exploits\",\n",
       "   5: \"Technical uses of injection across security vulnerabilities and legitimate applications\",\n",
       "   6: \"Code will throw an exception or error\",\n",
       "   7: \"Discussions of vulnerability and susceptibility to harm\",\n",
       "   8: \"Security warning in technical documentation\",\n",
       "   ...\n",
       "   199: \"Syntactic equality comparison operators in programming languages\"\n",
       "])"
      ]
     },
     "execution_count": 109,
     "metadata": {},
     "output_type": "execute_result"
    }
   ],
   "source": [
    "features_to_look_at"
   ]
  },
  {
   "cell_type": "code",
   "execution_count": 83,
   "metadata": {},
   "outputs": [
    {
     "name": "stderr",
     "output_type": "stream",
     "text": [
      "100%|██████████| 67/67 [00:00<00:00, 75.46it/s]\n"
     ]
    },
    {
     "name": "stdout",
     "output_type": "stream",
     "text": [
      "1 (Feature(\"Technical data structures and visualization objects in code\"),) 0.7052631578947368 0.6383547008547008 DecisionTreeClassifier(max_depth=1, min_samples_leaf=7, random_state=42)\n"
     ]
    },
    {
     "name": "stderr",
     "output_type": "stream",
     "text": [
      "100%|██████████| 2211/2211 [00:44<00:00, 50.11it/s]\n"
     ]
    },
    {
     "name": "stdout",
     "output_type": "stream",
     "text": [
      "2 (Feature(\"Technical and compound word construction patterns\"), Feature(\"Technical data structures and visualization objects in code\")) 0.7292817679558011 0.6826923076923077 DecisionTreeClassifier(max_depth=2, min_samples_leaf=7, random_state=42)\n"
     ]
    },
    {
     "name": "stderr",
     "output_type": "stream",
     "text": [
      "100%|██████████| 47905/47905 [17:31<00:00, 45.55it/s]"
     ]
    },
    {
     "name": "stdout",
     "output_type": "stream",
     "text": [
      "3 (Feature(\"Inline hash symbol comments explaining specific code operations\"), Feature(\"Sequential and nested program control flow patterns, especially combinations of loops and conditionals\"), Feature(\"Technical and compound word construction patterns\")) 0.7513812154696132 0.7094017094017093 DecisionTreeClassifier(max_depth=3, min_samples_leaf=7, random_state=42)\n"
     ]
    },
    {
     "name": "stderr",
     "output_type": "stream",
     "text": [
      "\n"
     ]
    }
   ],
   "source": [
    "from sklearn import tree\n",
    "from sklearn import svm\n",
    "from sklearn.model_selection import train_test_split\n",
    "from sklearn.metrics import balanced_accuracy_score, accuracy_score, f1_score\n",
    "import numpy as np\n",
    "import tqdm\n",
    "\n",
    "\n",
    "# Grid search may take a while, you can curate the feature list to speed this process up significantly\n",
    "def train_tree(x, y, depth):\n",
    "  train_x, test_x, train_y, test_y = train_test_split(x, y, train_size=0.5, random_state=42)\n",
    "\n",
    "  # Create a nice regularized tree\n",
    "  model = tree.DecisionTreeClassifier(\n",
    "      max_depth=depth,\n",
    "      min_samples_leaf=len(train_x) // 20,\n",
    "      random_state=42\n",
    "  )\n",
    "\n",
    "  model.fit(train_x, train_y)\n",
    "\n",
    "  pred = model.predict(test_x)\n",
    "\n",
    "  # Calculate the f1 score of the model\n",
    "  accuracy = balanced_accuracy_score(test_y, pred)\n",
    "  score = f1_score(test_y, pred)\n",
    "\n",
    "  return model, pred, score, accuracy\n",
    "\n",
    "\n",
    "def find_best_combo(features, k_features_per_combo = 2):\n",
    "  combos = FeatureMixer(features).grid(k_features_per_combo=k_features_per_combo)\n",
    "  best_combo = None\n",
    "  best_model = None\n",
    "  best_score = 0\n",
    "  best_accuracy = 0\n",
    "\n",
    "  MAX_WORKERS = 8\n",
    "\n",
    "  futures_list = []\n",
    "\n",
    "  with futures.ThreadPoolExecutor(max_workers=MAX_WORKERS) as executor:\n",
    "    for combo in combos:\n",
    "      def _test_combo(combo):\n",
    "        def _select_feature_acts(combo, row):\n",
    "          output = []\n",
    "          for index, feature in enumerate(combo):\n",
    "            for feature_act in row:\n",
    "              if feature_act.feature.uuid == feature.uuid:\n",
    "                output.append(feature_act.activation)\n",
    "                break\n",
    "\n",
    "          return output\n",
    "\n",
    "        x_negative = [_select_feature_acts(combo, row) for row in negative_class_features]\n",
    "        x_positive = [_select_feature_acts(combo, row) for row in positive_class_features]\n",
    "\n",
    "        y_negative = [-1] * len(x_negative)\n",
    "        y_positive = [1] * len(x_positive)\n",
    "\n",
    "        x = x_negative + x_positive\n",
    "        y = y_negative + y_positive\n",
    "\n",
    "        model, pred, score, accuracy = train_tree(x, y, depth=len(combo))\n",
    "\n",
    "        return model, pred, score, accuracy, combo\n",
    "\n",
    "      futures_list.append(executor.submit(_test_combo, combo))\n",
    "\n",
    "    for future in tqdm.tqdm(futures_list):\n",
    "      model, pred, score, accuracy, combo = future.result()\n",
    "\n",
    "      if score > best_score:\n",
    "        best_score = score\n",
    "        best_combo = combo\n",
    "        best_model = model\n",
    "        best_accuracy = accuracy\n",
    "\n",
    "  return best_combo, best_score, best_model, best_accuracy\n",
    "\n",
    "\n",
    "best_combo_at_k = {}\n",
    "for i in range(3):\n",
    "  best_combo, best_score, best_model, best_accuracy = find_best_combo(features_to_look_at, k_features_per_combo = i + 1)\n",
    "  print(i + 1, best_combo, best_score, best_accuracy, best_model)\n",
    "  best_combo_at_k[i + 1] = (best_combo, best_score, best_model)\n"
   ]
  },
  {
   "cell_type": "code",
   "execution_count": 87,
   "metadata": {},
   "outputs": [
    {
     "name": "stdout",
     "output_type": "stream",
     "text": [
      "['ccf6b9f5-cb96-4452-bb7a-b8215cecd55c', 'ee3d33af-7281-4450-8b3f-3389d8609dde', 'ccf6b9f5-cb96-4452-bb7a-b8215cecd55c', '8bd37716-c74c-494f-a555-1037f0eb0344', '0d477cc5-243e-4baa-85b1-829e9eb29a1d', 'ee3d33af-7281-4450-8b3f-3389d8609dde']\n"
     ]
    }
   ],
   "source": [
    "uuids = []\n",
    "for i in range(3):\n",
    "  for feature in best_combo_at_k[i + 1][0]:\n",
    "    uuids.append(str(feature.uuid))\n",
    "\n",
    "print(uuids)\n"
   ]
  },
  {
   "cell_type": "code",
   "execution_count": 84,
   "metadata": {},
   "outputs": [
    {
     "name": "stdout",
     "output_type": "stream",
     "text": [
      "Feature(\"Inline hash symbol comments explaining specific code operations\")\n",
      "Warning: The experimental features API is subject to change.\n"
     ]
    },
    {
     "data": {
      "text/plain": [
       "FeatureGroup([\n",
       "   0: \"Programming language comment syntax for documentation\",\n",
       "   1: \"Code comments in educational programming examples\",\n",
       "   2: \"Python comment hashtags that introduce new code sections\",\n",
       "   3: \"Python comment markers in tutorial code\",\n",
       "   4: \"Code modification and variable manipulation operations\",\n",
       "   5: \"Documentation and explanatory syntax in code\",\n",
       "   6: \"Programming language comment syntax at start of code blocks\",\n",
       "   7: \"Section-dividing comments in code that organize major steps\",\n",
       "   8: \"Python code comments explaining functionality\",\n",
       "   9: \"Code comment indicators for output statements\"\n",
       "])"
      ]
     },
     "execution_count": 84,
     "metadata": {},
     "output_type": "execute_result"
    }
   ],
   "source": [
    "# Inspect features to understand their nuances better\n",
    "best_individual_feature = best_combo_at_k[3][0][0]\n",
    "\n",
    "print(best_individual_feature)\n",
    "\n",
    "neighboring_features = client.features._experimental.neighbors(best_individual_feature, model=variant)\n",
    "neighboring_features\n"
   ]
  },
  {
   "cell_type": "code",
   "execution_count": 92,
   "metadata": {},
   "outputs": [],
   "source": [
    "# Function to visualize the decision tree\n",
    "def visualize_tree(tree_model, features, class_names=['negative', 'positive']):\n",
    "    import graphviz\n",
    "    dot_data = tree.export_graphviz(\n",
    "        tree_model, \n",
    "        out_file=None, \n",
    "        feature_names=[feature.label for feature in features],\n",
    "        class_names=class_names,\n",
    "        filled=True,\n",
    "        rounded=True,\n",
    "        special_characters=True\n",
    "    )\n",
    "    graph = graphviz.Source(dot_data)\n",
    "    return graph"
   ]
  },
  {
   "cell_type": "code",
   "execution_count": 95,
   "metadata": {},
   "outputs": [
    {
     "name": "stdout",
     "output_type": "stream",
     "text": [
      "DecisionTreeClassifier(max_depth=3, min_samples_leaf=7, random_state=42)\n",
      "(Feature(\"Inline hash symbol comments explaining specific code operations\"), Feature(\"Sequential and nested program control flow patterns, especially combinations of loops and conditionals\"), Feature(\"Technical and compound word construction patterns\"))\n",
      "0.7513812154696132\n"
     ]
    },
    {
     "data": {
      "image/svg+xml": [
       "<?xml version=\"1.0\" encoding=\"UTF-8\" standalone=\"no\"?>\n",
       "<!DOCTYPE svg PUBLIC \"-//W3C//DTD SVG 1.1//EN\"\n",
       " \"http://www.w3.org/Graphics/SVG/1.1/DTD/svg11.dtd\">\n",
       "<!-- Generated by graphviz version 2.43.0 (0)\n",
       " -->\n",
       "<!-- Title: Tree Pages: 1 -->\n",
       "<svg width=\"1726pt\" height=\"433pt\"\n",
       " viewBox=\"0.00 0.00 1725.50 433.00\" xmlns=\"http://www.w3.org/2000/svg\" xmlns:xlink=\"http://www.w3.org/1999/xlink\">\n",
       "<g id=\"graph0\" class=\"graph\" transform=\"scale(1 1) rotate(0) translate(4 429)\">\n",
       "<title>Tree</title>\n",
       "<polygon fill=\"white\" stroke=\"transparent\" points=\"-4,4 -4,-429 1721.5,-429 1721.5,4 -4,4\"/>\n",
       "<!-- 0 -->\n",
       "<g id=\"node1\" class=\"node\">\n",
       "<title>0</title>\n",
       "<path fill=\"#f0f7fd\" stroke=\"black\" d=\"M1388.5,-425C1388.5,-425 615.5,-425 615.5,-425 609.5,-425 603.5,-419 603.5,-413 603.5,-413 603.5,-354 603.5,-354 603.5,-348 609.5,-342 615.5,-342 615.5,-342 1388.5,-342 1388.5,-342 1394.5,-342 1400.5,-348 1400.5,-354 1400.5,-354 1400.5,-413 1400.5,-413 1400.5,-419 1394.5,-425 1388.5,-425\"/>\n",
       "<text text-anchor=\"start\" x=\"611.5\" y=\"-409.8\" font-family=\"Helvetica,sans-Serif\" font-size=\"14.00\">Sequential and nested program control flow patterns, especially combinations of loops and conditionals ≤ 0.293</text>\n",
       "<text text-anchor=\"start\" x=\"958\" y=\"-394.8\" font-family=\"Helvetica,sans-Serif\" font-size=\"14.00\">gini = 0.499</text>\n",
       "<text text-anchor=\"start\" x=\"949\" y=\"-379.8\" font-family=\"Helvetica,sans-Serif\" font-size=\"14.00\">samples = 150</text>\n",
       "<text text-anchor=\"start\" x=\"944.5\" y=\"-364.8\" font-family=\"Helvetica,sans-Serif\" font-size=\"14.00\">value = [72, 78]</text>\n",
       "<text text-anchor=\"start\" x=\"947\" y=\"-349.8\" font-family=\"Helvetica,sans-Serif\" font-size=\"14.00\">class = positive</text>\n",
       "</g>\n",
       "<!-- 1 -->\n",
       "<g id=\"node2\" class=\"node\">\n",
       "<title>1</title>\n",
       "<path fill=\"#c9e4f8\" stroke=\"black\" d=\"M890,-306C890,-306 482,-306 482,-306 476,-306 470,-300 470,-294 470,-294 470,-235 470,-235 470,-229 476,-223 482,-223 482,-223 890,-223 890,-223 896,-223 902,-229 902,-235 902,-235 902,-294 902,-294 902,-300 896,-306 890,-306\"/>\n",
       "<text text-anchor=\"start\" x=\"478\" y=\"-290.8\" font-family=\"Helvetica,sans-Serif\" font-size=\"14.00\">Technical and compound word construction patterns ≤ 0.34</text>\n",
       "<text text-anchor=\"start\" x=\"642\" y=\"-275.8\" font-family=\"Helvetica,sans-Serif\" font-size=\"14.00\">gini = 0.488</text>\n",
       "<text text-anchor=\"start\" x=\"633\" y=\"-260.8\" font-family=\"Helvetica,sans-Serif\" font-size=\"14.00\">samples = 133</text>\n",
       "<text text-anchor=\"start\" x=\"628.5\" y=\"-245.8\" font-family=\"Helvetica,sans-Serif\" font-size=\"14.00\">value = [56, 77]</text>\n",
       "<text text-anchor=\"start\" x=\"631\" y=\"-230.8\" font-family=\"Helvetica,sans-Serif\" font-size=\"14.00\">class = positive</text>\n",
       "</g>\n",
       "<!-- 0&#45;&gt;1 -->\n",
       "<g id=\"edge1\" class=\"edge\">\n",
       "<title>0&#45;&gt;1</title>\n",
       "<path fill=\"none\" stroke=\"black\" d=\"M892.37,-341.91C864.18,-331.47 833.72,-320.19 805.08,-309.59\"/>\n",
       "<polygon fill=\"black\" stroke=\"black\" points=\"806.03,-306.21 795.44,-306.02 803.6,-312.78 806.03,-306.21\"/>\n",
       "<text text-anchor=\"middle\" x=\"805.88\" y=\"-325.04\" font-family=\"Helvetica,sans-Serif\" font-size=\"14.00\">True</text>\n",
       "</g>\n",
       "<!-- 8 -->\n",
       "<g id=\"node9\" class=\"node\">\n",
       "<title>8</title>\n",
       "<path fill=\"#e78945\" stroke=\"black\" d=\"M1705.5,-306C1705.5,-306 932.5,-306 932.5,-306 926.5,-306 920.5,-300 920.5,-294 920.5,-294 920.5,-235 920.5,-235 920.5,-229 926.5,-223 932.5,-223 932.5,-223 1705.5,-223 1705.5,-223 1711.5,-223 1717.5,-229 1717.5,-235 1717.5,-235 1717.5,-294 1717.5,-294 1717.5,-300 1711.5,-306 1705.5,-306\"/>\n",
       "<text text-anchor=\"start\" x=\"928.5\" y=\"-290.8\" font-family=\"Helvetica,sans-Serif\" font-size=\"14.00\">Sequential and nested program control flow patterns, especially combinations of loops and conditionals ≤ 0.369</text>\n",
       "<text text-anchor=\"start\" x=\"1275\" y=\"-275.8\" font-family=\"Helvetica,sans-Serif\" font-size=\"14.00\">gini = 0.111</text>\n",
       "<text text-anchor=\"start\" x=\"1270.5\" y=\"-260.8\" font-family=\"Helvetica,sans-Serif\" font-size=\"14.00\">samples = 17</text>\n",
       "<text text-anchor=\"start\" x=\"1266\" y=\"-245.8\" font-family=\"Helvetica,sans-Serif\" font-size=\"14.00\">value = [16, 1]</text>\n",
       "<text text-anchor=\"start\" x=\"1261\" y=\"-230.8\" font-family=\"Helvetica,sans-Serif\" font-size=\"14.00\">class = negative</text>\n",
       "</g>\n",
       "<!-- 0&#45;&gt;8 -->\n",
       "<g id=\"edge8\" class=\"edge\">\n",
       "<title>0&#45;&gt;8</title>\n",
       "<path fill=\"none\" stroke=\"black\" d=\"M1111.98,-341.91C1140.26,-331.47 1170.81,-320.19 1199.55,-309.59\"/>\n",
       "<polygon fill=\"black\" stroke=\"black\" points=\"1201.04,-312.77 1209.21,-306.02 1198.62,-306.2 1201.04,-312.77\"/>\n",
       "<text text-anchor=\"middle\" x=\"1198.75\" y=\"-325.03\" font-family=\"Helvetica,sans-Serif\" font-size=\"14.00\">False</text>\n",
       "</g>\n",
       "<!-- 2 -->\n",
       "<g id=\"node3\" class=\"node\">\n",
       "<title>2</title>\n",
       "<path fill=\"#add6f4\" stroke=\"black\" d=\"M524,-187C524,-187 12,-187 12,-187 6,-187 0,-181 0,-175 0,-175 0,-116 0,-116 0,-110 6,-104 12,-104 12,-104 524,-104 524,-104 530,-104 536,-110 536,-116 536,-116 536,-175 536,-175 536,-181 530,-187 524,-187\"/>\n",
       "<text text-anchor=\"start\" x=\"8\" y=\"-171.8\" font-family=\"Helvetica,sans-Serif\" font-size=\"14.00\">Inline hash symbol comments explaining specific code operations ≤ 1.297</text>\n",
       "<text text-anchor=\"start\" x=\"224\" y=\"-156.8\" font-family=\"Helvetica,sans-Serif\" font-size=\"14.00\">gini = 0.466</text>\n",
       "<text text-anchor=\"start\" x=\"215\" y=\"-141.8\" font-family=\"Helvetica,sans-Serif\" font-size=\"14.00\">samples = 111</text>\n",
       "<text text-anchor=\"start\" x=\"210.5\" y=\"-126.8\" font-family=\"Helvetica,sans-Serif\" font-size=\"14.00\">value = [41, 70]</text>\n",
       "<text text-anchor=\"start\" x=\"213\" y=\"-111.8\" font-family=\"Helvetica,sans-Serif\" font-size=\"14.00\">class = positive</text>\n",
       "</g>\n",
       "<!-- 1&#45;&gt;2 -->\n",
       "<g id=\"edge2\" class=\"edge\">\n",
       "<title>1&#45;&gt;2</title>\n",
       "<path fill=\"none\" stroke=\"black\" d=\"M541.27,-222.99C503,-212.28 461.54,-200.67 422.76,-189.82\"/>\n",
       "<polygon fill=\"black\" stroke=\"black\" points=\"423.53,-186.4 412.96,-187.07 421.65,-193.14 423.53,-186.4\"/>\n",
       "</g>\n",
       "<!-- 5 -->\n",
       "<g id=\"node6\" class=\"node\">\n",
       "<title>5</title>\n",
       "<path fill=\"#f1bc95\" stroke=\"black\" d=\"M983.5,-187C983.5,-187 566.5,-187 566.5,-187 560.5,-187 554.5,-181 554.5,-175 554.5,-175 554.5,-116 554.5,-116 554.5,-110 560.5,-104 566.5,-104 566.5,-104 983.5,-104 983.5,-104 989.5,-104 995.5,-110 995.5,-116 995.5,-116 995.5,-175 995.5,-175 995.5,-181 989.5,-187 983.5,-187\"/>\n",
       "<text text-anchor=\"start\" x=\"562.5\" y=\"-171.8\" font-family=\"Helvetica,sans-Serif\" font-size=\"14.00\">Technical and compound word construction patterns ≤ 0.437</text>\n",
       "<text text-anchor=\"start\" x=\"731\" y=\"-156.8\" font-family=\"Helvetica,sans-Serif\" font-size=\"14.00\">gini = 0.434</text>\n",
       "<text text-anchor=\"start\" x=\"726.5\" y=\"-141.8\" font-family=\"Helvetica,sans-Serif\" font-size=\"14.00\">samples = 22</text>\n",
       "<text text-anchor=\"start\" x=\"708.5\" y=\"-126.8\" font-family=\"Helvetica,sans-Serif\" font-size=\"14.00\">value = [15.0, 7.0]</text>\n",
       "<text text-anchor=\"start\" x=\"717\" y=\"-111.8\" font-family=\"Helvetica,sans-Serif\" font-size=\"14.00\">class = negative</text>\n",
       "</g>\n",
       "<!-- 1&#45;&gt;5 -->\n",
       "<g id=\"edge5\" class=\"edge\">\n",
       "<title>1&#45;&gt;5</title>\n",
       "<path fill=\"none\" stroke=\"black\" d=\"M716.88,-222.91C723.71,-213.92 731.02,-204.32 738.07,-195.05\"/>\n",
       "<polygon fill=\"black\" stroke=\"black\" points=\"740.91,-197.1 744.18,-187.02 735.34,-192.86 740.91,-197.1\"/>\n",
       "</g>\n",
       "<!-- 3 -->\n",
       "<g id=\"node4\" class=\"node\">\n",
       "<title>3</title>\n",
       "<path fill=\"#a2d1f3\" stroke=\"black\" d=\"M246.5,-68C246.5,-68 139.5,-68 139.5,-68 133.5,-68 127.5,-62 127.5,-56 127.5,-56 127.5,-12 127.5,-12 127.5,-6 133.5,0 139.5,0 139.5,0 246.5,0 246.5,0 252.5,0 258.5,-6 258.5,-12 258.5,-12 258.5,-56 258.5,-56 258.5,-62 252.5,-68 246.5,-68\"/>\n",
       "<text text-anchor=\"start\" x=\"149\" y=\"-52.8\" font-family=\"Helvetica,sans-Serif\" font-size=\"14.00\">gini = 0.453</text>\n",
       "<text text-anchor=\"start\" x=\"140\" y=\"-37.8\" font-family=\"Helvetica,sans-Serif\" font-size=\"14.00\">samples = 101</text>\n",
       "<text text-anchor=\"start\" x=\"135.5\" y=\"-22.8\" font-family=\"Helvetica,sans-Serif\" font-size=\"14.00\">value = [35, 66]</text>\n",
       "<text text-anchor=\"start\" x=\"138\" y=\"-7.8\" font-family=\"Helvetica,sans-Serif\" font-size=\"14.00\">class = positive</text>\n",
       "</g>\n",
       "<!-- 2&#45;&gt;3 -->\n",
       "<g id=\"edge3\" class=\"edge\">\n",
       "<title>2&#45;&gt;3</title>\n",
       "<path fill=\"none\" stroke=\"black\" d=\"M240.07,-103.73C234.01,-94.88 227.6,-85.51 221.51,-76.63\"/>\n",
       "<polygon fill=\"black\" stroke=\"black\" points=\"224.35,-74.57 215.81,-68.3 218.57,-78.53 224.35,-74.57\"/>\n",
       "</g>\n",
       "<!-- 4 -->\n",
       "<g id=\"node5\" class=\"node\">\n",
       "<title>4</title>\n",
       "<path fill=\"#f6d5bd\" stroke=\"black\" d=\"M397,-68C397,-68 289,-68 289,-68 283,-68 277,-62 277,-56 277,-56 277,-12 277,-12 277,-6 283,0 289,0 289,0 397,0 397,0 403,0 409,-6 409,-12 409,-12 409,-56 409,-56 409,-62 403,-68 397,-68\"/>\n",
       "<text text-anchor=\"start\" x=\"303.5\" y=\"-52.8\" font-family=\"Helvetica,sans-Serif\" font-size=\"14.00\">gini = 0.48</text>\n",
       "<text text-anchor=\"start\" x=\"294.5\" y=\"-37.8\" font-family=\"Helvetica,sans-Serif\" font-size=\"14.00\">samples = 10</text>\n",
       "<text text-anchor=\"start\" x=\"294.5\" y=\"-22.8\" font-family=\"Helvetica,sans-Serif\" font-size=\"14.00\">value = [6, 4]</text>\n",
       "<text text-anchor=\"start\" x=\"285\" y=\"-7.8\" font-family=\"Helvetica,sans-Serif\" font-size=\"14.00\">class = negative</text>\n",
       "</g>\n",
       "<!-- 2&#45;&gt;4 -->\n",
       "<g id=\"edge4\" class=\"edge\">\n",
       "<title>2&#45;&gt;4</title>\n",
       "<path fill=\"none\" stroke=\"black\" d=\"M295.93,-103.73C301.99,-94.88 308.4,-85.51 314.49,-76.63\"/>\n",
       "<polygon fill=\"black\" stroke=\"black\" points=\"317.43,-78.53 320.19,-68.3 311.65,-74.57 317.43,-78.53\"/>\n",
       "</g>\n",
       "<!-- 6 -->\n",
       "<g id=\"node7\" class=\"node\">\n",
       "<title>6</title>\n",
       "<path fill=\"#eeab7b\" stroke=\"black\" d=\"M754,-68C754,-68 646,-68 646,-68 640,-68 634,-62 634,-56 634,-56 634,-12 634,-12 634,-6 640,0 646,0 646,0 754,0 754,0 760,0 766,-6 766,-12 766,-12 766,-56 766,-56 766,-62 760,-68 754,-68\"/>\n",
       "<text text-anchor=\"start\" x=\"656\" y=\"-52.8\" font-family=\"Helvetica,sans-Serif\" font-size=\"14.00\">gini = 0.375</text>\n",
       "<text text-anchor=\"start\" x=\"651.5\" y=\"-37.8\" font-family=\"Helvetica,sans-Serif\" font-size=\"14.00\">samples = 12</text>\n",
       "<text text-anchor=\"start\" x=\"651.5\" y=\"-22.8\" font-family=\"Helvetica,sans-Serif\" font-size=\"14.00\">value = [9, 3]</text>\n",
       "<text text-anchor=\"start\" x=\"642\" y=\"-7.8\" font-family=\"Helvetica,sans-Serif\" font-size=\"14.00\">class = negative</text>\n",
       "</g>\n",
       "<!-- 5&#45;&gt;6 -->\n",
       "<g id=\"edge6\" class=\"edge\">\n",
       "<title>5&#45;&gt;6</title>\n",
       "<path fill=\"none\" stroke=\"black\" d=\"M747.07,-103.73C741.01,-94.88 734.6,-85.51 728.51,-76.63\"/>\n",
       "<polygon fill=\"black\" stroke=\"black\" points=\"731.35,-74.57 722.81,-68.3 725.57,-78.53 731.35,-74.57\"/>\n",
       "</g>\n",
       "<!-- 7 -->\n",
       "<g id=\"node8\" class=\"node\">\n",
       "<title>7</title>\n",
       "<path fill=\"#f6d5bd\" stroke=\"black\" d=\"M904,-68C904,-68 796,-68 796,-68 790,-68 784,-62 784,-56 784,-56 784,-12 784,-12 784,-6 790,0 796,0 796,0 904,0 904,0 910,0 916,-6 916,-12 916,-12 916,-56 916,-56 916,-62 910,-68 904,-68\"/>\n",
       "<text text-anchor=\"start\" x=\"810.5\" y=\"-52.8\" font-family=\"Helvetica,sans-Serif\" font-size=\"14.00\">gini = 0.48</text>\n",
       "<text text-anchor=\"start\" x=\"801.5\" y=\"-37.8\" font-family=\"Helvetica,sans-Serif\" font-size=\"14.00\">samples = 10</text>\n",
       "<text text-anchor=\"start\" x=\"801.5\" y=\"-22.8\" font-family=\"Helvetica,sans-Serif\" font-size=\"14.00\">value = [6, 4]</text>\n",
       "<text text-anchor=\"start\" x=\"792\" y=\"-7.8\" font-family=\"Helvetica,sans-Serif\" font-size=\"14.00\">class = negative</text>\n",
       "</g>\n",
       "<!-- 5&#45;&gt;7 -->\n",
       "<g id=\"edge7\" class=\"edge\">\n",
       "<title>5&#45;&gt;7</title>\n",
       "<path fill=\"none\" stroke=\"black\" d=\"M802.93,-103.73C808.99,-94.88 815.4,-85.51 821.49,-76.63\"/>\n",
       "<polygon fill=\"black\" stroke=\"black\" points=\"824.43,-78.53 827.19,-68.3 818.65,-74.57 824.43,-78.53\"/>\n",
       "</g>\n",
       "<!-- 9 -->\n",
       "<g id=\"node10\" class=\"node\">\n",
       "<title>9</title>\n",
       "<path fill=\"#e58139\" stroke=\"black\" d=\"M1298,-179.5C1298,-179.5 1190,-179.5 1190,-179.5 1184,-179.5 1178,-173.5 1178,-167.5 1178,-167.5 1178,-123.5 1178,-123.5 1178,-117.5 1184,-111.5 1190,-111.5 1190,-111.5 1298,-111.5 1298,-111.5 1304,-111.5 1310,-117.5 1310,-123.5 1310,-123.5 1310,-167.5 1310,-167.5 1310,-173.5 1304,-179.5 1298,-179.5\"/>\n",
       "<text text-anchor=\"start\" x=\"1209\" y=\"-164.3\" font-family=\"Helvetica,sans-Serif\" font-size=\"14.00\">gini = 0.0</text>\n",
       "<text text-anchor=\"start\" x=\"1200\" y=\"-149.3\" font-family=\"Helvetica,sans-Serif\" font-size=\"14.00\">samples = 8</text>\n",
       "<text text-anchor=\"start\" x=\"1195.5\" y=\"-134.3\" font-family=\"Helvetica,sans-Serif\" font-size=\"14.00\">value = [8, 0]</text>\n",
       "<text text-anchor=\"start\" x=\"1186\" y=\"-119.3\" font-family=\"Helvetica,sans-Serif\" font-size=\"14.00\">class = negative</text>\n",
       "</g>\n",
       "<!-- 8&#45;&gt;9 -->\n",
       "<g id=\"edge9\" class=\"edge\">\n",
       "<title>8&#45;&gt;9</title>\n",
       "<path fill=\"none\" stroke=\"black\" d=\"M1292.98,-222.91C1285.76,-211.65 1277.92,-199.42 1270.67,-188.11\"/>\n",
       "<polygon fill=\"black\" stroke=\"black\" points=\"1273.6,-186.2 1265.26,-179.67 1267.71,-189.97 1273.6,-186.2\"/>\n",
       "</g>\n",
       "<!-- 10 -->\n",
       "<g id=\"node11\" class=\"node\">\n",
       "<title>10</title>\n",
       "<path fill=\"#e89152\" stroke=\"black\" d=\"M1448,-179.5C1448,-179.5 1340,-179.5 1340,-179.5 1334,-179.5 1328,-173.5 1328,-167.5 1328,-167.5 1328,-123.5 1328,-123.5 1328,-117.5 1334,-111.5 1340,-111.5 1340,-111.5 1448,-111.5 1448,-111.5 1454,-111.5 1460,-117.5 1460,-123.5 1460,-123.5 1460,-167.5 1460,-167.5 1460,-173.5 1454,-179.5 1448,-179.5\"/>\n",
       "<text text-anchor=\"start\" x=\"1350\" y=\"-164.3\" font-family=\"Helvetica,sans-Serif\" font-size=\"14.00\">gini = 0.198</text>\n",
       "<text text-anchor=\"start\" x=\"1350\" y=\"-149.3\" font-family=\"Helvetica,sans-Serif\" font-size=\"14.00\">samples = 9</text>\n",
       "<text text-anchor=\"start\" x=\"1345.5\" y=\"-134.3\" font-family=\"Helvetica,sans-Serif\" font-size=\"14.00\">value = [8, 1]</text>\n",
       "<text text-anchor=\"start\" x=\"1336\" y=\"-119.3\" font-family=\"Helvetica,sans-Serif\" font-size=\"14.00\">class = negative</text>\n",
       "</g>\n",
       "<!-- 8&#45;&gt;10 -->\n",
       "<g id=\"edge10\" class=\"edge\">\n",
       "<title>8&#45;&gt;10</title>\n",
       "<path fill=\"none\" stroke=\"black\" d=\"M1345.02,-222.91C1352.24,-211.65 1360.08,-199.42 1367.33,-188.11\"/>\n",
       "<polygon fill=\"black\" stroke=\"black\" points=\"1370.29,-189.97 1372.74,-179.67 1364.4,-186.2 1370.29,-189.97\"/>\n",
       "</g>\n",
       "</g>\n",
       "</svg>\n"
      ],
      "text/plain": [
       "<graphviz.sources.Source at 0x7d5de26ca440>"
      ]
     },
     "execution_count": 95,
     "metadata": {},
     "output_type": "execute_result"
    }
   ],
   "source": [
    "# Anyways let's look at the best overall tree\n",
    "BEST_TREE_INDEX = 3\n",
    "best_features = best_combo_at_k[BEST_TREE_INDEX][0]\n",
    "best_score = best_combo_at_k[BEST_TREE_INDEX][1]\n",
    "best_tree = best_combo_at_k[BEST_TREE_INDEX][2]\n",
    "\n",
    "# Visualize the tree\n",
    "print(best_tree)\n",
    "print(best_features)\n",
    "print(best_score)\n",
    "visualize_tree(best_tree, best_features)"
   ]
  },
  {
   "cell_type": "code",
   "execution_count": 17,
   "metadata": {},
   "outputs": [
    {
     "data": {
      "text/plain": [
       "67"
      ]
     },
     "execution_count": 17,
     "metadata": {},
     "output_type": "execute_result"
    }
   ],
   "source": [
    "len(features_to_look_at)"
   ]
  },
  {
   "cell_type": "code",
   "execution_count": 119,
   "metadata": {},
   "outputs": [
    {
     "name": "stdout",
     "output_type": "stream",
     "text": [
      "Computing positive features...\n",
      "Resuming from index 200\n"
     ]
    },
    {
     "name": "stderr",
     "output_type": "stream",
     "text": [
      "Processing rows:  14%|█▍        | 250/1800 [00:16<06:08,  4.20it/s]"
     ]
    },
    {
     "name": "stdout",
     "output_type": "stream",
     "text": [
      "Saved progress at iteration 250\n"
     ]
    },
    {
     "name": "stderr",
     "output_type": "stream",
     "text": [
      "Processing rows:  16%|█▋        | 297/1800 [00:29<11:42,  2.14it/s]"
     ]
    },
    {
     "name": "stdout",
     "output_type": "stream",
     "text": [
      "Saved progress at iteration 300\n"
     ]
    },
    {
     "name": "stderr",
     "output_type": "stream",
     "text": [
      "Processing rows:  19%|█▉        | 348/1800 [00:45<07:56,  3.04it/s]"
     ]
    },
    {
     "name": "stdout",
     "output_type": "stream",
     "text": [
      "Saved progress at iteration 350\n"
     ]
    },
    {
     "name": "stderr",
     "output_type": "stream",
     "text": [
      "Processing rows:  22%|██▏       | 399/1800 [01:03<11:17,  2.07it/s]"
     ]
    },
    {
     "name": "stdout",
     "output_type": "stream",
     "text": [
      "Saved progress at iteration 400\n"
     ]
    },
    {
     "name": "stderr",
     "output_type": "stream",
     "text": [
      "Processing rows:  25%|██▌       | 450/1800 [01:17<04:53,  4.60it/s]"
     ]
    },
    {
     "name": "stdout",
     "output_type": "stream",
     "text": [
      "Saved progress at iteration 450\n"
     ]
    },
    {
     "name": "stderr",
     "output_type": "stream",
     "text": [
      "Processing rows:  28%|██▊       | 498/1800 [01:33<07:17,  2.98it/s]"
     ]
    },
    {
     "name": "stdout",
     "output_type": "stream",
     "text": [
      "Saved progress at iteration 500\n"
     ]
    },
    {
     "name": "stderr",
     "output_type": "stream",
     "text": [
      "Processing rows:  31%|███       | 550/1800 [01:49<04:09,  5.02it/s]"
     ]
    },
    {
     "name": "stdout",
     "output_type": "stream",
     "text": [
      "Saved progress at iteration 550\n"
     ]
    },
    {
     "name": "stderr",
     "output_type": "stream",
     "text": [
      "Processing rows:  33%|███▎      | 600/1800 [02:07<09:00,  2.22it/s]"
     ]
    },
    {
     "name": "stdout",
     "output_type": "stream",
     "text": [
      "Saved progress at iteration 600\n"
     ]
    },
    {
     "name": "stderr",
     "output_type": "stream",
     "text": [
      "Processing rows:  36%|███▌      | 649/1800 [02:23<05:49,  3.29it/s]"
     ]
    },
    {
     "name": "stdout",
     "output_type": "stream",
     "text": [
      "Saved progress at iteration 650\n"
     ]
    },
    {
     "name": "stderr",
     "output_type": "stream",
     "text": [
      "Processing rows:  39%|███▉      | 700/1800 [02:39<05:44,  3.20it/s]"
     ]
    },
    {
     "name": "stdout",
     "output_type": "stream",
     "text": [
      "Saved progress at iteration 700\n"
     ]
    },
    {
     "name": "stderr",
     "output_type": "stream",
     "text": [
      "Processing rows:  42%|████▏     | 747/1800 [02:55<05:55,  2.96it/s]"
     ]
    },
    {
     "name": "stdout",
     "output_type": "stream",
     "text": [
      "Saved progress at iteration 750\n"
     ]
    },
    {
     "name": "stderr",
     "output_type": "stream",
     "text": [
      "Processing rows:  44%|████▍     | 800/1800 [03:10<05:51,  2.84it/s]"
     ]
    },
    {
     "name": "stdout",
     "output_type": "stream",
     "text": [
      "Saved progress at iteration 800\n"
     ]
    },
    {
     "name": "stderr",
     "output_type": "stream",
     "text": [
      "Processing rows:  47%|████▋     | 850/1800 [03:23<04:24,  3.59it/s]"
     ]
    },
    {
     "name": "stdout",
     "output_type": "stream",
     "text": [
      "Saved progress at iteration 850\n"
     ]
    },
    {
     "name": "stderr",
     "output_type": "stream",
     "text": [
      "Processing rows:  50%|█████     | 902/1800 [03:36<02:39,  5.63it/s]"
     ]
    },
    {
     "name": "stdout",
     "output_type": "stream",
     "text": [
      "Saved progress at iteration 900\n"
     ]
    },
    {
     "name": "stderr",
     "output_type": "stream",
     "text": [
      "Processing rows:  53%|█████▎    | 950/1800 [03:49<03:08,  4.52it/s]"
     ]
    },
    {
     "name": "stdout",
     "output_type": "stream",
     "text": [
      "Saved progress at iteration 950\n"
     ]
    },
    {
     "name": "stderr",
     "output_type": "stream",
     "text": [
      "Processing rows:  56%|█████▌    | 1001/1800 [04:02<02:45,  4.83it/s]"
     ]
    },
    {
     "name": "stdout",
     "output_type": "stream",
     "text": [
      "Saved progress at iteration 1000\n"
     ]
    },
    {
     "name": "stderr",
     "output_type": "stream",
     "text": [
      "Processing rows:  58%|█████▊    | 1049/1800 [04:15<03:28,  3.61it/s]"
     ]
    },
    {
     "name": "stdout",
     "output_type": "stream",
     "text": [
      "Saved progress at iteration 1050\n"
     ]
    },
    {
     "name": "stderr",
     "output_type": "stream",
     "text": [
      "Processing rows:  61%|██████    | 1098/1800 [04:27<03:16,  3.57it/s]"
     ]
    },
    {
     "name": "stdout",
     "output_type": "stream",
     "text": [
      "Saved progress at iteration 1100\n"
     ]
    },
    {
     "name": "stderr",
     "output_type": "stream",
     "text": [
      "Processing rows:  64%|██████▍   | 1150/1800 [04:41<03:16,  3.31it/s]"
     ]
    },
    {
     "name": "stdout",
     "output_type": "stream",
     "text": [
      "Saved progress at iteration 1150\n"
     ]
    },
    {
     "name": "stderr",
     "output_type": "stream",
     "text": [
      "Processing rows:  67%|██████▋   | 1204/1800 [04:56<01:58,  5.03it/s]"
     ]
    },
    {
     "name": "stdout",
     "output_type": "stream",
     "text": [
      "Saved progress at iteration 1200\n"
     ]
    },
    {
     "name": "stderr",
     "output_type": "stream",
     "text": [
      "Processing rows:  69%|██████▉   | 1250/1800 [05:10<03:06,  2.95it/s]"
     ]
    },
    {
     "name": "stdout",
     "output_type": "stream",
     "text": [
      "Saved progress at iteration 1250\n"
     ]
    },
    {
     "name": "stderr",
     "output_type": "stream",
     "text": [
      "Processing rows:  72%|███████▏  | 1299/1800 [05:25<03:32,  2.36it/s]"
     ]
    },
    {
     "name": "stdout",
     "output_type": "stream",
     "text": [
      "Saved progress at iteration 1300\n"
     ]
    },
    {
     "name": "stderr",
     "output_type": "stream",
     "text": [
      "Processing rows:  75%|███████▍  | 1349/1800 [05:37<01:55,  3.89it/s]"
     ]
    },
    {
     "name": "stdout",
     "output_type": "stream",
     "text": [
      "Saved progress at iteration 1350\n"
     ]
    },
    {
     "name": "stderr",
     "output_type": "stream",
     "text": [
      "Processing rows:  77%|███████▋  | 1391/1800 [06:07<09:55,  1.46s/it]"
     ]
    },
    {
     "name": "stdout",
     "output_type": "stream",
     "text": [
      "Saved progress at iteration 1400\n"
     ]
    },
    {
     "name": "stderr",
     "output_type": "stream",
     "text": [
      "Processing rows:  80%|███████▉  | 1437/1800 [06:08<01:38,  3.67it/s]"
     ]
    },
    {
     "name": "stdout",
     "output_type": "stream",
     "text": [
      "Saved progress at iteration 1450\n"
     ]
    },
    {
     "name": "stderr",
     "output_type": "stream",
     "text": [
      "Processing rows:  83%|████████▎ | 1499/1800 [06:21<01:32,  3.24it/s]"
     ]
    },
    {
     "name": "stdout",
     "output_type": "stream",
     "text": [
      "Saved progress at iteration 1500\n"
     ]
    },
    {
     "name": "stderr",
     "output_type": "stream",
     "text": [
      "Processing rows:  86%|████████▌ | 1546/1800 [06:36<03:54,  1.08it/s]"
     ]
    },
    {
     "name": "stdout",
     "output_type": "stream",
     "text": [
      "Saved progress at iteration 1550\n"
     ]
    },
    {
     "name": "stderr",
     "output_type": "stream",
     "text": [
      "Processing rows:  89%|████████▊ | 1596/1800 [06:50<01:02,  3.26it/s]"
     ]
    },
    {
     "name": "stdout",
     "output_type": "stream",
     "text": [
      "Saved progress at iteration 1600\n"
     ]
    },
    {
     "name": "stderr",
     "output_type": "stream",
     "text": [
      "Processing rows:  92%|█████████▏| 1654/1800 [07:06<00:32,  4.50it/s]"
     ]
    },
    {
     "name": "stdout",
     "output_type": "stream",
     "text": [
      "Saved progress at iteration 1650\n"
     ]
    },
    {
     "name": "stderr",
     "output_type": "stream",
     "text": [
      "Processing rows:  94%|█████████▍| 1700/1800 [07:20<00:27,  3.60it/s]"
     ]
    },
    {
     "name": "stdout",
     "output_type": "stream",
     "text": [
      "Saved progress at iteration 1700\n"
     ]
    },
    {
     "name": "stderr",
     "output_type": "stream",
     "text": [
      "Processing rows:  97%|█████████▋| 1744/1800 [07:33<00:19,  2.87it/s]"
     ]
    },
    {
     "name": "stdout",
     "output_type": "stream",
     "text": [
      "Saved progress at iteration 1750\n"
     ]
    },
    {
     "name": "stderr",
     "output_type": "stream",
     "text": [
      "Processing rows: 1801it [07:49,  3.83it/s]                          "
     ]
    },
    {
     "name": "stdout",
     "output_type": "stream",
     "text": [
      "Saved progress at iteration 1800\n"
     ]
    },
    {
     "name": "stderr",
     "output_type": "stream",
     "text": [
      "Processing rows: 1857it [08:04,  4.89it/s]"
     ]
    },
    {
     "name": "stdout",
     "output_type": "stream",
     "text": [
      "Saved progress at iteration 1850\n"
     ]
    },
    {
     "name": "stderr",
     "output_type": "stream",
     "text": [
      "Processing rows: 1898it [08:15,  3.76it/s]"
     ]
    },
    {
     "name": "stdout",
     "output_type": "stream",
     "text": [
      "Saved progress at iteration 1900\n"
     ]
    },
    {
     "name": "stderr",
     "output_type": "stream",
     "text": [
      "Processing rows: 1950it [08:32,  2.79it/s]"
     ]
    },
    {
     "name": "stdout",
     "output_type": "stream",
     "text": [
      "Saved progress at iteration 1950\n"
     ]
    },
    {
     "name": "stderr",
     "output_type": "stream",
     "text": [
      "Processing rows: 2000it [08:42,  3.44it/s]\n"
     ]
    },
    {
     "name": "stdout",
     "output_type": "stream",
     "text": [
      "Saved progress at iteration 2000\n",
      "Computing negative features...\n"
     ]
    },
    {
     "name": "stderr",
     "output_type": "stream",
     "text": [
      "Processing rows:   2%|▏         | 49/2000 [00:14<10:23,  3.13it/s] "
     ]
    },
    {
     "name": "stdout",
     "output_type": "stream",
     "text": [
      "Saved progress at iteration 50\n"
     ]
    },
    {
     "name": "stderr",
     "output_type": "stream",
     "text": [
      "Processing rows:   5%|▍         | 99/2000 [00:27<07:53,  4.01it/s]"
     ]
    },
    {
     "name": "stdout",
     "output_type": "stream",
     "text": [
      "Saved progress at iteration 100\n"
     ]
    },
    {
     "name": "stderr",
     "output_type": "stream",
     "text": [
      "Processing rows:   7%|▋         | 148/2000 [00:40<09:11,  3.36it/s]"
     ]
    },
    {
     "name": "stdout",
     "output_type": "stream",
     "text": [
      "Saved progress at iteration 150\n"
     ]
    },
    {
     "name": "stderr",
     "output_type": "stream",
     "text": [
      "Processing rows:  10%|█         | 200/2000 [00:53<05:42,  5.26it/s]"
     ]
    },
    {
     "name": "stdout",
     "output_type": "stream",
     "text": [
      "Saved progress at iteration 200\n"
     ]
    },
    {
     "name": "stderr",
     "output_type": "stream",
     "text": [
      "Processing rows:  12%|█▏        | 249/2000 [01:12<53:26,  1.83s/it]"
     ]
    },
    {
     "name": "stdout",
     "output_type": "stream",
     "text": [
      "Saved progress at iteration 250\n"
     ]
    },
    {
     "name": "stderr",
     "output_type": "stream",
     "text": [
      "Processing rows:  15%|█▌        | 300/2000 [01:22<09:01,  3.14it/s]"
     ]
    },
    {
     "name": "stdout",
     "output_type": "stream",
     "text": [
      "Saved progress at iteration 300\n"
     ]
    },
    {
     "name": "stderr",
     "output_type": "stream",
     "text": [
      "Processing rows:  18%|█▊        | 350/2000 [01:34<05:48,  4.73it/s]"
     ]
    },
    {
     "name": "stdout",
     "output_type": "stream",
     "text": [
      "Saved progress at iteration 350\n"
     ]
    },
    {
     "name": "stderr",
     "output_type": "stream",
     "text": [
      "Processing rows:  20%|██        | 400/2000 [01:48<06:27,  4.13it/s]"
     ]
    },
    {
     "name": "stdout",
     "output_type": "stream",
     "text": [
      "Saved progress at iteration 400\n"
     ]
    },
    {
     "name": "stderr",
     "output_type": "stream",
     "text": [
      "Processing rows:  22%|██▏       | 447/2000 [02:06<15:07,  1.71it/s]"
     ]
    },
    {
     "name": "stdout",
     "output_type": "stream",
     "text": [
      "Saved progress at iteration 450\n"
     ]
    },
    {
     "name": "stderr",
     "output_type": "stream",
     "text": [
      "Processing rows:  25%|██▌       | 500/2000 [02:20<06:18,  3.97it/s]"
     ]
    },
    {
     "name": "stdout",
     "output_type": "stream",
     "text": [
      "Saved progress at iteration 500\n"
     ]
    },
    {
     "name": "stderr",
     "output_type": "stream",
     "text": [
      "Processing rows:  27%|██▋       | 549/2000 [02:39<13:37,  1.77it/s]"
     ]
    },
    {
     "name": "stdout",
     "output_type": "stream",
     "text": [
      "Saved progress at iteration 550\n"
     ]
    },
    {
     "name": "stderr",
     "output_type": "stream",
     "text": [
      "Processing rows:  30%|███       | 600/2000 [02:53<05:05,  4.58it/s]"
     ]
    },
    {
     "name": "stdout",
     "output_type": "stream",
     "text": [
      "Saved progress at iteration 600\n"
     ]
    },
    {
     "name": "stderr",
     "output_type": "stream",
     "text": [
      "Processing rows:  32%|███▏      | 646/2000 [03:11<09:56,  2.27it/s]"
     ]
    },
    {
     "name": "stdout",
     "output_type": "stream",
     "text": [
      "Saved progress at iteration 650\n"
     ]
    },
    {
     "name": "stderr",
     "output_type": "stream",
     "text": [
      "Processing rows:  35%|███▌      | 700/2000 [03:25<05:13,  4.14it/s]"
     ]
    },
    {
     "name": "stdout",
     "output_type": "stream",
     "text": [
      "Saved progress at iteration 700\n"
     ]
    },
    {
     "name": "stderr",
     "output_type": "stream",
     "text": [
      "Processing rows:  37%|███▋      | 748/2000 [03:40<08:38,  2.42it/s]"
     ]
    },
    {
     "name": "stdout",
     "output_type": "stream",
     "text": [
      "Saved progress at iteration 750\n"
     ]
    },
    {
     "name": "stderr",
     "output_type": "stream",
     "text": [
      "Processing rows:  40%|███▉      | 799/2000 [03:56<09:58,  2.01it/s]"
     ]
    },
    {
     "name": "stdout",
     "output_type": "stream",
     "text": [
      "Saved progress at iteration 800\n"
     ]
    },
    {
     "name": "stderr",
     "output_type": "stream",
     "text": [
      "Processing rows:  42%|████▏     | 841/2000 [04:11<11:32,  1.67it/s]"
     ]
    },
    {
     "name": "stdout",
     "output_type": "stream",
     "text": [
      "Saved progress at iteration 850\n"
     ]
    },
    {
     "name": "stderr",
     "output_type": "stream",
     "text": [
      "Processing rows:  45%|████▍     | 899/2000 [04:40<10:23,  1.77it/s]"
     ]
    },
    {
     "name": "stdout",
     "output_type": "stream",
     "text": [
      "Saved progress at iteration 900\n"
     ]
    },
    {
     "name": "stderr",
     "output_type": "stream",
     "text": [
      "Processing rows:  47%|████▋     | 948/2000 [04:55<04:47,  3.66it/s]"
     ]
    },
    {
     "name": "stdout",
     "output_type": "stream",
     "text": [
      "Saved progress at iteration 950\n"
     ]
    },
    {
     "name": "stderr",
     "output_type": "stream",
     "text": [
      "Processing rows:  50%|█████     | 1000/2000 [05:10<05:11,  3.21it/s]"
     ]
    },
    {
     "name": "stdout",
     "output_type": "stream",
     "text": [
      "Saved progress at iteration 1000\n"
     ]
    },
    {
     "name": "stderr",
     "output_type": "stream",
     "text": [
      "Processing rows:  52%|█████▏    | 1048/2000 [05:25<05:31,  2.87it/s]"
     ]
    },
    {
     "name": "stdout",
     "output_type": "stream",
     "text": [
      "Saved progress at iteration 1050\n"
     ]
    },
    {
     "name": "stderr",
     "output_type": "stream",
     "text": [
      "Processing rows:  55%|█████▍    | 1093/2000 [05:39<06:53,  2.19it/s]"
     ]
    },
    {
     "name": "stdout",
     "output_type": "stream",
     "text": [
      "Saved progress at iteration 1100\n"
     ]
    },
    {
     "name": "stderr",
     "output_type": "stream",
     "text": [
      "Processing rows:  57%|█████▊    | 1150/2000 [05:57<05:56,  2.39it/s]"
     ]
    },
    {
     "name": "stdout",
     "output_type": "stream",
     "text": [
      "Saved progress at iteration 1150\n"
     ]
    },
    {
     "name": "stderr",
     "output_type": "stream",
     "text": [
      "Processing rows:  60%|██████    | 1200/2000 [06:11<04:58,  2.68it/s]"
     ]
    },
    {
     "name": "stdout",
     "output_type": "stream",
     "text": [
      "Saved progress at iteration 1200\n"
     ]
    },
    {
     "name": "stderr",
     "output_type": "stream",
     "text": [
      "Processing rows:  62%|██████▏   | 1248/2000 [06:35<27:32,  2.20s/it]"
     ]
    },
    {
     "name": "stdout",
     "output_type": "stream",
     "text": [
      "Saved progress at iteration 1250\n"
     ]
    },
    {
     "name": "stderr",
     "output_type": "stream",
     "text": [
      "Processing rows:  65%|██████▌   | 1300/2000 [06:49<03:28,  3.35it/s]"
     ]
    },
    {
     "name": "stdout",
     "output_type": "stream",
     "text": [
      "Saved progress at iteration 1300\n"
     ]
    },
    {
     "name": "stderr",
     "output_type": "stream",
     "text": [
      "Processing rows:  67%|██████▋   | 1349/2000 [07:09<07:43,  1.41it/s]"
     ]
    },
    {
     "name": "stdout",
     "output_type": "stream",
     "text": [
      "Saved progress at iteration 1350\n"
     ]
    },
    {
     "name": "stderr",
     "output_type": "stream",
     "text": [
      "Processing rows:  70%|███████   | 1400/2000 [07:22<02:39,  3.77it/s]"
     ]
    },
    {
     "name": "stdout",
     "output_type": "stream",
     "text": [
      "Saved progress at iteration 1400\n"
     ]
    },
    {
     "name": "stderr",
     "output_type": "stream",
     "text": [
      "Processing rows:  73%|███████▎  | 1453/2000 [07:38<02:36,  3.50it/s]"
     ]
    },
    {
     "name": "stdout",
     "output_type": "stream",
     "text": [
      "Saved progress at iteration 1450\n"
     ]
    },
    {
     "name": "stderr",
     "output_type": "stream",
     "text": [
      "Processing rows:  75%|███████▌  | 1500/2000 [07:52<02:44,  3.04it/s]"
     ]
    },
    {
     "name": "stdout",
     "output_type": "stream",
     "text": [
      "Saved progress at iteration 1500\n"
     ]
    },
    {
     "name": "stderr",
     "output_type": "stream",
     "text": [
      "Processing rows:  77%|███████▋  | 1549/2000 [08:08<02:26,  3.08it/s]"
     ]
    },
    {
     "name": "stdout",
     "output_type": "stream",
     "text": [
      "Saved progress at iteration 1550\n"
     ]
    },
    {
     "name": "stderr",
     "output_type": "stream",
     "text": [
      "Processing rows:  80%|████████  | 1600/2000 [08:24<02:04,  3.21it/s]"
     ]
    },
    {
     "name": "stdout",
     "output_type": "stream",
     "text": [
      "Saved progress at iteration 1600\n"
     ]
    },
    {
     "name": "stderr",
     "output_type": "stream",
     "text": [
      "Processing rows:  82%|████████▏ | 1649/2000 [08:40<02:34,  2.27it/s]"
     ]
    },
    {
     "name": "stdout",
     "output_type": "stream",
     "text": [
      "Saved progress at iteration 1650\n"
     ]
    },
    {
     "name": "stderr",
     "output_type": "stream",
     "text": [
      "Processing rows:  85%|████████▍ | 1699/2000 [08:55<01:32,  3.24it/s]"
     ]
    },
    {
     "name": "stdout",
     "output_type": "stream",
     "text": [
      "Saved progress at iteration 1700\n"
     ]
    },
    {
     "name": "stderr",
     "output_type": "stream",
     "text": [
      "Processing rows:  87%|████████▋ | 1747/2000 [09:12<02:05,  2.02it/s]"
     ]
    },
    {
     "name": "stdout",
     "output_type": "stream",
     "text": [
      "Saved progress at iteration 1750\n"
     ]
    },
    {
     "name": "stderr",
     "output_type": "stream",
     "text": [
      "Processing rows:  90%|████████▉ | 1799/2000 [09:27<01:17,  2.60it/s]"
     ]
    },
    {
     "name": "stdout",
     "output_type": "stream",
     "text": [
      "Saved progress at iteration 1800\n"
     ]
    },
    {
     "name": "stderr",
     "output_type": "stream",
     "text": [
      "Processing rows:  92%|█████████▎| 1850/2000 [09:43<01:00,  2.47it/s]"
     ]
    },
    {
     "name": "stdout",
     "output_type": "stream",
     "text": [
      "Saved progress at iteration 1850\n"
     ]
    },
    {
     "name": "stderr",
     "output_type": "stream",
     "text": [
      "Processing rows:  95%|█████████▍| 1896/2000 [10:00<00:47,  2.20it/s]"
     ]
    },
    {
     "name": "stdout",
     "output_type": "stream",
     "text": [
      "Saved progress at iteration 1900\n"
     ]
    },
    {
     "name": "stderr",
     "output_type": "stream",
     "text": [
      "Processing rows:  98%|█████████▊| 1950/2000 [10:13<00:13,  3.83it/s]"
     ]
    },
    {
     "name": "stdout",
     "output_type": "stream",
     "text": [
      "Saved progress at iteration 1950\n"
     ]
    },
    {
     "name": "stderr",
     "output_type": "stream",
     "text": [
      "Processing rows: 100%|██████████| 2000/2000 [10:26<00:00,  3.19it/s]"
     ]
    },
    {
     "name": "stdout",
     "output_type": "stream",
     "text": [
      "Saved progress at iteration 2000\n",
      "Features saved to lr_positive_class_features.npy and lr_negative_class_features.npy\n"
     ]
    },
    {
     "name": "stderr",
     "output_type": "stream",
     "text": [
      "\n"
     ]
    }
   ],
   "source": [
    "import pandas as pd\n",
    "import concurrent.futures as futures\n",
    "import tqdm\n",
    "import time\n",
    "import random\n",
    "import numpy as np\n",
    "import os\n",
    "\n",
    "CLASSIFIER_FULL_SET_SIZE = 3000\n",
    "NUM_WORKERS = 8\n",
    "\n",
    "def process_row(args):\n",
    "    row, features_to_use_for_classification, k, variant = args\n",
    "    text = row['text']\n",
    "    \n",
    "    max_retries = 5\n",
    "    for attempt in range(max_retries):\n",
    "        try:\n",
    "            context = client.features.inspect(\n",
    "                [\n",
    "                    {\n",
    "                        \"role\": \"user\",\n",
    "                        \"content\": f\"Is the following code vulnerable or safe? {text}\"\n",
    "                    }\n",
    "                ],\n",
    "                model=variant,\n",
    "                features=features_to_use_for_classification,\n",
    "            )\n",
    "            features = context.top(k=k)\n",
    "            vector = np.array([next((f.activation for f in features if f.feature.uuid == feature.uuid), 0) for feature in features_to_use_for_classification])\n",
    "            return vector\n",
    "        except Exception as e:\n",
    "            if attempt == max_retries - 1:\n",
    "                raise\n",
    "            sleep_time = (2 ** attempt) + random.uniform(0, 1)\n",
    "            time.sleep(sleep_time)\n",
    "\n",
    "def lr_get_features_for_class(\n",
    "    sample_class: pd.DataFrame,\n",
    "    features_to_use_for_classification: goodfire.FeatureGroup,\n",
    "    k=len(features_to_look_at),\n",
    "    resume_from=None\n",
    "):\n",
    "    if k < len(features_to_use_for_classification):\n",
    "        raise ValueError(\"k must be greater than the number of features to use for classification\")\n",
    "\n",
    "    matrix = np.zeros((sample_class.shape[0], len(features_to_use_for_classification)))\n",
    "    \n",
    "    start_index = 0\n",
    "    if resume_from is not None and os.path.exists(resume_from):\n",
    "        matrix = np.load(resume_from)\n",
    "        if matrix.shape[0] < sample_class.shape[0]:\n",
    "            expanded_matrix = np.zeros((sample_class.shape[0], len(features_to_use_for_classification)))\n",
    "            expanded_matrix[:matrix.shape[0]] = matrix\n",
    "            matrix = expanded_matrix\n",
    "        start_index = np.count_nonzero(np.any(matrix != 0, axis=1))\n",
    "        print(f\"Resuming from index {start_index}\")\n",
    "    \n",
    "    with futures.ThreadPoolExecutor(max_workers=NUM_WORKERS) as executor:\n",
    "        args_list = [(row, features_to_use_for_classification, k, variant) \n",
    "                     for _, row in sample_class[start_index:].iterrows()]\n",
    "        \n",
    "        for i, result in enumerate(tqdm.tqdm(executor.map(process_row, args_list), \n",
    "                                             total=sample_class.shape[0]-start_index, \n",
    "                                             desc=\"Processing rows\",\n",
    "                                             initial=start_index)):\n",
    "            matrix[start_index + i] = result\n",
    "            if (start_index + i + 1) % 50 == 0:\n",
    "                np.save(resume_from, matrix)\n",
    "                print(f\"Saved progress at iteration {start_index + i + 1}\")\n",
    "    \n",
    "    return matrix\n",
    "\n",
    "print(\"Computing positive features...\")\n",
    "lr_positive_class_features = lr_get_features_for_class(positive_examples[:2000], features_to_look_at, resume_from='lr_positive_class_features.npy')\n",
    "np.save('lr_positive_class_features.npy', lr_positive_class_features)\n",
    "\n",
    "print(\"Computing negative features...\")\n",
    "lr_negative_class_features = lr_get_features_for_class(negative_examples[:2000], features_to_look_at, resume_from='lr_negative_class_features.npy')\n",
    "np.save('lr_negative_class_features.npy', lr_negative_class_features)\n",
    "\n",
    "print(\"Features saved to lr_positive_class_features.npy and lr_negative_class_features.npy\")\n",
    "\n",
    "# To reload the features later, you can use:\n",
    "# lr_positive_class_features = np.load('lr_positive_class_features.npy')\n",
    "# lr_negative_class_features = np.load('lr_negative_class_features.npy')\n"
   ]
  },
  {
   "cell_type": "code",
   "execution_count": 72,
   "metadata": {},
   "outputs": [],
   "source": [
    "lr_positive_class_features = lr_positive_class_features[:2000]"
   ]
  },
  {
   "cell_type": "code",
   "execution_count": 124,
   "metadata": {},
   "outputs": [
    {
     "data": {
      "text/plain": [
       "(2000, 200)"
      ]
     },
     "execution_count": 124,
     "metadata": {},
     "output_type": "execute_result"
    }
   ],
   "source": [
    "lr_positive_class_features.shape\n"
   ]
  },
  {
   "cell_type": "code",
   "execution_count": 125,
   "metadata": {},
   "outputs": [
    {
     "name": "stdout",
     "output_type": "stream",
     "text": [
      "Fitting 5 folds for each of 48 candidates, totalling 240 fits\n"
     ]
    },
    {
     "name": "stderr",
     "output_type": "stream",
     "text": [
      "/home/ubuntu/goodfire-hackathon/venv/lib/python3.10/site-packages/sklearn/linear_model/_sag.py:349: ConvergenceWarning: The max_iter was reached which means the coef_ did not converge\n",
      "  warnings.warn(\n",
      "/home/ubuntu/goodfire-hackathon/venv/lib/python3.10/site-packages/sklearn/linear_model/_sag.py:349: ConvergenceWarning: The max_iter was reached which means the coef_ did not converge\n",
      "  warnings.warn(\n",
      "/home/ubuntu/goodfire-hackathon/venv/lib/python3.10/site-packages/sklearn/linear_model/_sag.py:349: ConvergenceWarning: The max_iter was reached which means the coef_ did not converge\n",
      "  warnings.warn(\n",
      "/home/ubuntu/goodfire-hackathon/venv/lib/python3.10/site-packages/sklearn/linear_model/_sag.py:349: ConvergenceWarning: The max_iter was reached which means the coef_ did not converge\n",
      "  warnings.warn(\n",
      "/home/ubuntu/goodfire-hackathon/venv/lib/python3.10/site-packages/sklearn/linear_model/_sag.py:349: ConvergenceWarning: The max_iter was reached which means the coef_ did not converge\n",
      "  warnings.warn(\n",
      "/home/ubuntu/goodfire-hackathon/venv/lib/python3.10/site-packages/sklearn/linear_model/_sag.py:349: ConvergenceWarning: The max_iter was reached which means the coef_ did not converge\n",
      "  warnings.warn(\n",
      "/home/ubuntu/goodfire-hackathon/venv/lib/python3.10/site-packages/sklearn/linear_model/_sag.py:349: ConvergenceWarning: The max_iter was reached which means the coef_ did not converge\n",
      "  warnings.warn(\n",
      "/home/ubuntu/goodfire-hackathon/venv/lib/python3.10/site-packages/sklearn/linear_model/_sag.py:349: ConvergenceWarning: The max_iter was reached which means the coef_ did not converge\n",
      "  warnings.warn(\n",
      "/home/ubuntu/goodfire-hackathon/venv/lib/python3.10/site-packages/sklearn/linear_model/_sag.py:349: ConvergenceWarning: The max_iter was reached which means the coef_ did not converge\n",
      "  warnings.warn(\n",
      "/home/ubuntu/goodfire-hackathon/venv/lib/python3.10/site-packages/sklearn/linear_model/_sag.py:349: ConvergenceWarning: The max_iter was reached which means the coef_ did not converge\n",
      "  warnings.warn(\n",
      "/home/ubuntu/goodfire-hackathon/venv/lib/python3.10/site-packages/sklearn/linear_model/_sag.py:349: ConvergenceWarning: The max_iter was reached which means the coef_ did not converge\n",
      "  warnings.warn(\n",
      "/home/ubuntu/goodfire-hackathon/venv/lib/python3.10/site-packages/sklearn/linear_model/_sag.py:349: ConvergenceWarning: The max_iter was reached which means the coef_ did not converge\n",
      "  warnings.warn(\n",
      "/home/ubuntu/goodfire-hackathon/venv/lib/python3.10/site-packages/sklearn/linear_model/_sag.py:349: ConvergenceWarning: The max_iter was reached which means the coef_ did not converge\n",
      "  warnings.warn(\n",
      "/home/ubuntu/goodfire-hackathon/venv/lib/python3.10/site-packages/sklearn/linear_model/_sag.py:349: ConvergenceWarning: The max_iter was reached which means the coef_ did not converge\n",
      "  warnings.warn(\n",
      "/home/ubuntu/goodfire-hackathon/venv/lib/python3.10/site-packages/sklearn/linear_model/_sag.py:349: ConvergenceWarning: The max_iter was reached which means the coef_ did not converge\n",
      "  warnings.warn(\n",
      "/home/ubuntu/goodfire-hackathon/venv/lib/python3.10/site-packages/sklearn/linear_model/_sag.py:349: ConvergenceWarning: The max_iter was reached which means the coef_ did not converge\n",
      "  warnings.warn(\n",
      "/home/ubuntu/goodfire-hackathon/venv/lib/python3.10/site-packages/sklearn/linear_model/_sag.py:349: ConvergenceWarning: The max_iter was reached which means the coef_ did not converge\n",
      "  warnings.warn(\n",
      "/home/ubuntu/goodfire-hackathon/venv/lib/python3.10/site-packages/sklearn/linear_model/_sag.py:349: ConvergenceWarning: The max_iter was reached which means the coef_ did not converge\n",
      "  warnings.warn(\n",
      "/home/ubuntu/goodfire-hackathon/venv/lib/python3.10/site-packages/sklearn/linear_model/_sag.py:349: ConvergenceWarning: The max_iter was reached which means the coef_ did not converge\n",
      "  warnings.warn(\n",
      "/home/ubuntu/goodfire-hackathon/venv/lib/python3.10/site-packages/sklearn/linear_model/_sag.py:349: ConvergenceWarning: The max_iter was reached which means the coef_ did not converge\n",
      "  warnings.warn(\n",
      "/home/ubuntu/goodfire-hackathon/venv/lib/python3.10/site-packages/sklearn/linear_model/_sag.py:349: ConvergenceWarning: The max_iter was reached which means the coef_ did not converge\n",
      "  warnings.warn(\n",
      "/home/ubuntu/goodfire-hackathon/venv/lib/python3.10/site-packages/sklearn/linear_model/_sag.py:349: ConvergenceWarning: The max_iter was reached which means the coef_ did not converge\n",
      "  warnings.warn(\n",
      "/home/ubuntu/goodfire-hackathon/venv/lib/python3.10/site-packages/sklearn/linear_model/_sag.py:349: ConvergenceWarning: The max_iter was reached which means the coef_ did not converge\n",
      "  warnings.warn(\n",
      "/home/ubuntu/goodfire-hackathon/venv/lib/python3.10/site-packages/sklearn/linear_model/_sag.py:349: ConvergenceWarning: The max_iter was reached which means the coef_ did not converge\n",
      "  warnings.warn(\n",
      "/home/ubuntu/goodfire-hackathon/venv/lib/python3.10/site-packages/sklearn/linear_model/_sag.py:349: ConvergenceWarning: The max_iter was reached which means the coef_ did not converge\n",
      "  warnings.warn(\n",
      "/home/ubuntu/goodfire-hackathon/venv/lib/python3.10/site-packages/sklearn/linear_model/_sag.py:349: ConvergenceWarning: The max_iter was reached which means the coef_ did not converge\n",
      "  warnings.warn(\n"
     ]
    },
    {
     "name": "stdout",
     "output_type": "stream",
     "text": [
      "\n",
      "Best parameters: {'C': 0.001, 'class_weight': 'balanced', 'max_iter': 1000, 'penalty': 'l2', 'solver': 'saga'}\n",
      "Best cross-validation score: 0.4911964264549066\n",
      "\n",
      "Test Metrics:\n",
      "Accuracy: 0.4020\n",
      "Precision: 0.4272\n",
      "Recall: 0.5197\n",
      "F1: 0.4689\n",
      "AUC-ROC: 0.3409\n",
      "\n",
      "Top 10 Features with Highest Weights:\n",
      "[119 130 163  26 112 104  29  13  68 174]\n",
      "Feature 119, a56cc632-1f98-4468-a1cc-47b7edab8e53: Feature(\"Closing parentheses in programming code contexts\") (Weight: -1.1335)\n",
      "Feature 130, 89747292-8acc-4940-a59d-16be3fb1d665: Feature(\"Opening parenthesis in programming control flow statements\") (Weight: 1.0888)\n",
      "Feature 163, faeaf4a9-8e9f-4e12-9677-c80e753cbf06: Feature(\"Mathematical increment and decrement operators in programming code\") (Weight: -1.0730)\n",
      "Feature 26, 0c4b4ffa-29ca-4eab-94ca-a66871dff2e2: Feature(\"C/C++ code syntax and structure patterns\") (Weight: -1.0628)\n",
      "Feature 112, 3d2b2063-05cc-4a32-9ac3-e97a467fa948: Feature(\"Code block closures and error handling syntax\") (Weight: 1.0473)\n",
      "Feature 104, b795ebf8-5776-438d-986d-f8476b16eedb: Feature(\"Command and code syntax indicating endings or termination\") (Weight: -1.0254)\n",
      "Feature 29, 235cb931-8b2c-483f-88e4-d659109ac41b: Feature(\"Copy operations in programming contexts\") (Weight: 1.0046)\n",
      "Feature 13, 38ce884c-6af6-4243-b9a6-5a95db045d1b: Feature(\"The assistant should complete a code snippet\") (Weight: 0.9895)\n",
      "Feature 68, 4ecfe1ff-948b-4f6b-83ba-47f911fbb966: Feature(\"The letter V in technical computing terms and product names\") (Weight: -0.9438)\n",
      "Feature 174, c0aa32db-d432-4f61-956e-34ecd245e272: Feature(\"Syntactical sugar and formatting tokens in structured data contexts\") (Weight: 0.9401)\n"
     ]
    }
   ],
   "source": [
    "from sklearn.linear_model import LogisticRegression\n",
    "from sklearn.preprocessing import MinMaxScaler\n",
    "from sklearn.metrics import accuracy_score, precision_score, recall_score, f1_score, roc_auc_score\n",
    "from sklearn.model_selection import train_test_split\n",
    "import numpy as np\n",
    "from sklearn.model_selection import GridSearchCV\n",
    "\n",
    "\n",
    "# Data\n",
    "# Combine positive and negative examples for features and labels\n",
    "X = np.vstack([lr_positive_class_features, lr_negative_class_features])\n",
    "y = np.hstack([np.ones(lr_positive_class_features.shape[0]), \n",
    "               np.zeros(lr_negative_class_features.shape[0])])\n",
    "\n",
    "# Split into train and test sets\n",
    "X_train, X_test, y_train, y_test = train_test_split(X, y, train_size=0.5, random_state=42)\n",
    "\n",
    "\n",
    "# Initialize scaler and model\n",
    "scaler = MinMaxScaler(feature_range=(0, 1))\n",
    "\n",
    "# Scale the features\n",
    "X_train_scaled = scaler.fit_transform(lr_positive_class_features)\n",
    "X_test_scaled = scaler.transform(X_test)\n",
    "\n",
    "param_grid = {\n",
    "    'C': [0.001, 0.01, 0.1, 1, 10, 100],  # Inverse of regularization strength\n",
    "    'penalty': ['l1', 'l2'],  # Regularization type\n",
    "    'solver': ['liblinear', 'saga'],  # Algorithm to use\n",
    "    'class_weight': [None, 'balanced'],  # Weight for classes\n",
    "    'max_iter': [1000]  # Keep high enough to ensure convergence\n",
    "}\n",
    "\n",
    "base_model = LogisticRegression(max_iter=1000)\n",
    "\n",
    "# Setup GridSearchCV\n",
    "grid_search = GridSearchCV(\n",
    "    estimator=base_model,\n",
    "    param_grid=param_grid,\n",
    "    cv=5,  # 5-fold cross-validation\n",
    "    scoring='f1',  # Can also use 'accuracy', 'precision', 'recall', 'roc_auc'\n",
    "    n_jobs=-1,  # Use all available cores\n",
    "    verbose=1\n",
    ")\n",
    "\n",
    "# Fit the grid search\n",
    "grid_search.fit(X_train_scaled, y_train)\n",
    "\n",
    "# Print best parameters and score\n",
    "print(\"\\nBest parameters:\", grid_search.best_params_)\n",
    "print(\"Best cross-validation score:\", grid_search.best_score_)\n",
    "\n",
    "# Use best model for predictions\n",
    "best_model = grid_search.best_estimator_\n",
    "y_pred_test = best_model.predict(X_test_scaled)\n",
    "y_pred_proba_test = best_model.predict_proba(X_test_scaled)[:, 1]\n",
    "\n",
    "# Calculate test metrics\n",
    "print(\"\\nTest Metrics:\")\n",
    "print(f\"Accuracy: {accuracy_score(y_test, y_pred_test):.4f}\")\n",
    "print(f\"Precision: {precision_score(y_test, y_pred_test):.4f}\")\n",
    "print(f\"Recall: {recall_score(y_test, y_pred_test):.4f}\")\n",
    "print(f\"F1: {f1_score(y_test, y_pred_test):.4f}\")\n",
    "print(f\"AUC-ROC: {roc_auc_score(y_test, y_pred_proba_test):.4f}\")\n",
    "\n",
    "# Print feature indexes with the highest weights and their labels\n",
    "feature_weights = model.coef_[0]\n",
    "top_feature_indices = np.argsort(np.abs(feature_weights))[::-1][:10]  # Get top 10 feature indices\n",
    "print(\"\\nTop 10 Features with Highest Weights:\")\n",
    "\n",
    "print(top_feature_indices)\n",
    "for idx in top_feature_indices:\n",
    "    print(f\"Feature {idx}, {str(features_to_look_at[int(idx)].uuid)}: {features_to_look_at[int(idx)]} (Weight: {feature_weights[idx]:.4f})\")"
   ]
  },
  {
   "cell_type": "code",
   "execution_count": 127,
   "metadata": {},
   "outputs": [
    {
     "name": "stdout",
     "output_type": "stream",
     "text": [
      "['a56cc632-1f98-4468-a1cc-47b7edab8e53', '89747292-8acc-4940-a59d-16be3fb1d665', 'faeaf4a9-8e9f-4e12-9677-c80e753cbf06', '0c4b4ffa-29ca-4eab-94ca-a66871dff2e2', '3d2b2063-05cc-4a32-9ac3-e97a467fa948', 'b795ebf8-5776-438d-986d-f8476b16eedb', '235cb931-8b2c-483f-88e4-d659109ac41b', '38ce884c-6af6-4243-b9a6-5a95db045d1b', '4ecfe1ff-948b-4f6b-83ba-47f911fbb966', 'c0aa32db-d432-4f61-956e-34ecd245e272']\n"
     ]
    }
   ],
   "source": [
    "uuids = [str(features_to_look_at[int(idx)].uuid) for idx in top_feature_indices]\n",
    "print(uuids)\n"
   ]
  },
  {
   "cell_type": "code",
   "execution_count": 50,
   "metadata": {},
   "outputs": [
    {
     "name": "stdout",
     "output_type": "stream",
     "text": [
      "Feature(\"Template placeholders and numbered sequences in generated content\")\n"
     ]
    }
   ],
   "source": [
    "print(features_to_look_at[2])"
   ]
  }
 ],
 "metadata": {
  "kernelspec": {
   "display_name": ".venv",
   "language": "python",
   "name": "python3"
  },
  "language_info": {
   "codemirror_mode": {
    "name": "ipython",
    "version": 3
   },
   "file_extension": ".py",
   "mimetype": "text/x-python",
   "name": "python",
   "nbconvert_exporter": "python",
   "pygments_lexer": "ipython3",
   "version": "3.10.12"
  }
 },
 "nbformat": 4,
 "nbformat_minor": 2
}
