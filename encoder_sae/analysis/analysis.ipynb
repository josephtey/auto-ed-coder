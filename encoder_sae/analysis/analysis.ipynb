{
 "cells": [
  {
   "cell_type": "markdown",
   "id": "6f159a2b",
   "metadata": {},
   "source": [
    "import stuff"
   ]
  },
  {
   "cell_type": "code",
   "execution_count": 2,
   "id": "85e17e0a",
   "metadata": {},
   "outputs": [
    {
     "name": "stderr",
     "output_type": "stream",
     "text": [
      "/piech/u/joetey/auto-ed-coder/venv/lib/python3.10/site-packages/pydantic/_internal/_config.py:341: UserWarning: Valid config keys have changed in V2:\n",
      "* 'allow_mutation' has been removed\n",
      "  warnings.warn(message, UserWarning)\n"
     ]
    }
   ],
   "source": [
    "from dotenv import load_dotenv\n",
    "import sys\n",
    "sys.path.append(\"../../\")\n",
    "from shared.models import MiniPileDataset\n",
    "from shared.contra import BottleneckT5Autoencoder\n",
    "from shared.interp import count_non_zero_feature_activations, plot_feature_activation_histogram\n",
    "from shared.features import Feature, FeatureSample\n",
    "import os\n",
    "import json\n",
    "import torch\n",
    "\n",
    "# Enable automatic reloading of modules when they change\n",
    "%load_ext autoreload\n",
    "%autoreload 2\n",
    "\n",
    "\n",
    "# Load environment variables from .env file\n",
    "load_dotenv()\n",
    "\n",
    "# Access the OpenAI API key from the environment variables\n",
    "openai_api_key = os.getenv(\"OPENAI_API_KEY\")\n"
   ]
  },
  {
   "cell_type": "code",
   "execution_count": 3,
   "id": "448a352c-0309-405b-984c-20ee7b44c774",
   "metadata": {},
   "outputs": [],
   "source": [
    "folder = \"../training_sae/saes/contra_3_20241014_084411\""
   ]
  },
  {
   "cell_type": "code",
   "execution_count": 4,
   "id": "6ea26c24",
   "metadata": {},
   "outputs": [],
   "source": [
    "# Load the model from the pickle file\n",
    "import pickle \n",
    "import sys\n",
    "import os\n",
    "\n",
    "from shared.sparse_autoencoder import SparseAutoencoder, SparseAutoencoderConfig\n",
    "import json\n",
    "\n",
    "# load the dataset\n",
    "sentences_file = \"../data_preparation/chunking/chunked_datasets/JeanKaddour_minipile.csv\"\n",
    "embeddings_file = \"../data_preparation/embedding_chunks/embedded_chunks/contra_minipile_20241014_002936/embeddings.npy\"\n",
    "mini_pile_dataset = MiniPileDataset(sentences_file, embeddings_file)\n",
    "\n",
    "# Load the configuration from the JSON file\n",
    "config_path = os.path.join(folder, 'config.json')\n",
    "with open(config_path, \"r\") as config_file:\n",
    "    config = json.load(config_file)\n",
    "\n",
    "# Load the pre-trained model from the pickle file\n",
    "sae_config = SparseAutoencoderConfig(d_model=config[\"dimensions\"], d_sparse=8 * config[\"dimensions\"], sparsity_alpha=config[\"sparsity_alpha\"])\n",
    "model = SparseAutoencoder(sae_config)\n",
    "\n",
    "with open(os.path.join(folder, 'sae.pkl'), \"rb\") as f:\n",
    "    model_state_dict = pickle.load(f)\n",
    "    model.load_state_dict(model_state_dict)"
   ]
  },
  {
   "cell_type": "code",
   "execution_count": 5,
   "id": "8ff0083b",
   "metadata": {},
   "outputs": [
    {
     "name": "stdout",
     "output_type": "stream",
     "text": [
      "Log feature densities loaded successfully.\n"
     ]
    }
   ],
   "source": [
    "# Load the log feature densities from the JSON file\n",
    "log_feature_densities_path = os.path.join(folder, \"log_feature_densities.json\")\n",
    "with open(log_feature_densities_path, \"r\") as json_file:\n",
    "    log_feature_densities = json.load(json_file)\n",
    "\n",
    "print(\"Log feature densities loaded successfully.\")\n"
   ]
  },
  {
   "cell_type": "markdown",
   "id": "b075f11f",
   "metadata": {},
   "source": [
    "interpret the feature activations"
   ]
  },
  {
   "cell_type": "code",
   "execution_count": 7,
   "id": "92dd1a07",
   "metadata": {},
   "outputs": [
    {
     "name": "stdout",
     "output_type": "stream",
     "text": [
      "len(filtered_feature_activations) 5618\n"
     ]
    },
    {
     "data": {
      "image/png": "[encoded data removed]",
      "text/plain": [
       "<Figure size 1000x600 with 1 Axes>"
      ]
     },
     "metadata": {},
     "output_type": "display_data"
    }
   ],
   "source": [
    "training_step = len(log_feature_densities) - 5\n",
    "feature_activations = log_feature_densities[training_step]\n",
    "\n",
    "# Filter out -inf values\n",
    "filtered_feature_activations = [fa for fa in feature_activations if fa != -float('inf')]\n",
    "print(\"len(filtered_feature_activations)\", len(filtered_feature_activations))\n",
    "\n",
    "import matplotlib.pyplot as plt\n",
    "\n",
    "# Plotting the histogram of feature activations\n",
    "plt.figure(figsize=(10, 6))\n",
    "plt.hist(filtered_feature_activations, bins=30, edgecolor='black', alpha=0.7)\n",
    "plt.xlabel(\"Log Feature Densities\", fontsize=14)\n",
    "plt.ylabel(\"Count\", fontsize=14)\n",
    "plt.title(\"Histogram of Feature Activations\", fontsize=16)\n",
    "plt.grid(True)\n",
    "plt.show()\n"
   ]
  },
  {
   "cell_type": "code",
   "execution_count": 11,
   "id": "d5d1986e",
   "metadata": {},
   "outputs": [
    {
     "data": {
      "text/plain": [
       "1022330"
      ]
     },
     "execution_count": 11,
     "metadata": {},
     "output_type": "execute_result"
    }
   ],
   "source": [
    "len(mini_pile_dataset)"
   ]
  },
  {
   "cell_type": "code",
   "execution_count": 8,
   "id": "b60331aa",
   "metadata": {},
   "outputs": [
    {
     "name": "stdout",
     "output_type": "stream",
     "text": [
      "Average Non-Zero Elements for first 1000 samples: 16.018999099731445\n",
      "Average Percentage of Non-Zero Elements: 0.20%\n"
     ]
    }
   ],
   "source": [
    "count_non_zero_feature_activations(model, mini_pile_dataset, 1000)"
   ]
  },
  {
   "cell_type": "code",
   "execution_count": null,
   "id": "e0f29946",
   "metadata": {},
   "outputs": [],
   "source": [
    "plot_feature_activation_histogram(model, mini_pile_dataset)"
   ]
  },
  {
   "cell_type": "markdown",
   "id": "f56a5c60",
   "metadata": {},
   "source": [
    "automated interp pipeline: analysis"
   ]
  },
  {
   "cell_type": "code",
   "execution_count": 3,
   "id": "f8629a42",
   "metadata": {},
   "outputs": [
    {
     "name": "stdout",
     "output_type": "stream",
     "text": [
      "Number of filtered out samples: 0\n"
     ]
    }
   ],
   "source": [
    "import os\n",
    "import json\n",
    "\n",
    "features_folder = \"../feature_extraction/features/20241013_234644\"\n",
    "features = []\n",
    "filtered_out_count = 0\n",
    "\n",
    "for filename in os.listdir(features_folder):\n",
    "    if filename.startswith(\"feature_\") and filename.endswith(\".json\"):\n",
    "        with open(os.path.join(features_folder, filename), \"r\") as json_file:\n",
    "            feature_data = json.load(json_file)\n",
    "            feature = Feature(**feature_data)\n",
    "            if len(feature.high_act_samples) >= 10:\n",
    "                features.append(feature)\n",
    "            else:\n",
    "                filtered_out_count += 1\n",
    "\n",
    "features.sort(key=lambda x: x.confidence, reverse=True)\n",
    "\n",
    "print(f\"Number of filtered out samples: {filtered_out_count}\")"
   ]
  },
  {
   "cell_type": "code",
   "execution_count": 5,
   "id": "ab6a65f8",
   "metadata": {},
   "outputs": [
    {
     "name": "stdout",
     "output_type": "stream",
     "text": [
      "Index: 7, Label: In-depth analyses and discussions, Confidence: 52.0\n",
      "Index: 80, Label: Complex narrative style, Confidence: 48.0\n",
      "Index: 73, Label: Complex and informative sentence structures, Confidence: 43.0\n",
      "Index: 79, Label: Informative and structured language, Confidence: 43.0\n",
      "Index: 58, Label: Use of formal academic language, Confidence: 40.0\n",
      "Index: 24, Label: Scientific language and analysis, Confidence: 39.0\n",
      "Index: 35, Label: Complexity in ideas and details, Confidence: 37.0\n",
      "Index: 81, Label: Scientific and analytical language, Confidence: 36.0\n",
      "Index: 28, Label: Coherent and structured narratives, Confidence: 35.0\n",
      "Index: 63, Label: Narrative and emotional context, Confidence: 33.0\n",
      "Index: 64, Label: Informative and analytical content, Confidence: 30.0\n",
      "Index: 57, Label: Complex and detailed content, Confidence: 30.0\n",
      "Index: 31, Label: Formal and structured content, Confidence: 30.0\n",
      "Index: 45, Label: Complex and expressive language, Confidence: 28.0\n",
      "Index: 92, Label: Narrative and experiential context, Confidence: 28.0\n",
      "Index: 74, Label: Emphasis on human experience and emotions, Confidence: 27.0\n",
      "Index: 12, Label: Narrative complexity with specific examples, Confidence: 27.0\n",
      "Index: 33, Label: Complex and detailed information, Confidence: 26.0\n",
      "Index: 88, Label: Informative and narrative content types, Confidence: 26.0\n",
      "Index: 93, Label: Descriptive and emotive language use, Confidence: 26.0\n",
      "Index: 60, Label: Complex analysis and nuanced commentary, Confidence: 25.0\n",
      "Index: 94, Label: Use of technical and academic vocabulary, Confidence: 25.0\n",
      "Index: 3, Label: Technical and scientific content, Confidence: 25.0\n",
      "Index: 48, Label: Contact information and professional roles, Confidence: 25.0\n",
      "Index: 91, Label: Formal and detailed content, Confidence: 25.0\n",
      "Index: 2, Label: Complex narratives and scenarios, Confidence: 25.0\n",
      "Index: 66, Label: Detailed and technical descriptions, Confidence: 25.0\n",
      "Index: 38, Label: Technical and specialized language usage, Confidence: 24.0\n",
      "Index: 14, Label: Analytical and narrative quality, Confidence: 23.0\n",
      "Index: 85, Label: Complexity and depth of content, Confidence: 20.0\n",
      "Index: 41, Label: Analytical and technical exposition, Confidence: 20.0\n",
      "Index: 82, Label: Coherent narrative and informational structure, Confidence: 20.0\n",
      "Index: 8, Label: Complex and informative content, Confidence: 20.0\n",
      "Index: 72, Label: Complex and informative discourse, Confidence: 20.0\n",
      "Index: 13, Label: Narrative and personal storytelling, Confidence: 19.0\n",
      "Index: 49, Label: Formal and technical writing style, Confidence: 19.0\n",
      "Index: 17, Label: Analytical and informative tone, Confidence: 18.0\n",
      "Index: 53, Label: Complex and informative sentences, Confidence: 18.0\n",
      "Index: 90, Label: Narrative and descriptive quality, Confidence: 17.0\n",
      "Index: 61, Label: Names of identifiable people or entities, Confidence: 17.0\n",
      "Index: 25, Label: Encouraging and affirmative expressions, Confidence: 16.0\n",
      "Index: 26, Label: Use of specialized technical language, Confidence: 15.0\n",
      "Index: 55, Label: Presence of dialogue and interaction, Confidence: 14.0\n",
      "Index: 18, Label: Subjective reflections and experiences, Confidence: 14.0\n",
      "Index: 56, Label: Factual and detailed statements, Confidence: 14.0\n",
      "Index: 0, Label: Health and fitness focus, Confidence: 14.0\n",
      "Index: 84, Label: Assertive and opinionated language, Confidence: 14.0\n",
      "Index: 27, Label: Presence of scientific content, Confidence: 14.0\n",
      "Index: 77, Label: Complex narratives with detailed context, Confidence: 14.0\n",
      "Index: 10, Label: Complex and detailed language use, Confidence: 14.0\n",
      "Index: 69, Label: Scientific and formal language, Confidence: 13.0\n",
      "Index: 6, Label: Creative and narrative-rich language, Confidence: 13.0\n",
      "Index: 11, Label: Use of formal technical language, Confidence: 13.0\n",
      "Index: 86, Label: Technical and structured content, Confidence: 13.0\n",
      "Index: 52, Label: In-depth and informative content, Confidence: 12.0\n",
      "Index: 78, Label: Descriptive and informative narratives, Confidence: 12.0\n",
      "Index: 44, Label: Nuanced themes and emotional depth, Confidence: 12.0\n",
      "Index: 30, Label: Expressive and appreciative tone, Confidence: 12.0\n",
      "Index: 54, Label: Technical and procedural details, Confidence: 12.0\n",
      "Index: 75, Label: Narrative complexity and engagement, Confidence: 11.0\n",
      "Index: 16, Label: Positive and constructive tone, Confidence: 11.0\n",
      "Index: 29, Label: Complex and detailed explanations, Confidence: 11.0\n",
      "Index: 70, Label: Narrative and emotional tone, Confidence: 10.0\n",
      "Index: 37, Label: Focus on constructive recommendations, Confidence: 10.0\n",
      "Index: 4, Label: Complex and detailed explanations, Confidence: 10.0\n",
      "Index: 9, Label: Academic and technical language usage, Confidence: 10.0\n",
      "Index: 5, Label: Narrative and descriptive elements present, Confidence: 10.0\n",
      "Index: 22, Label: Expressions of positive sentiment, Confidence: 10.0\n",
      "Index: 98, Label: Technical and structured content, Confidence: 10.0\n",
      "Index: 89, Label: Detailed explanations and discussions, Confidence: 10.0\n",
      "Index: 34, Label: Complex narratives and analyses, Confidence: 10.0\n",
      "Index: 19, Label: Emphasis on analysis and discussion, Confidence: 9.0\n",
      "Index: 99, Label: Complex and detailed content, Confidence: 9.0\n",
      "Index: 67, Label: Complexity and depth of content, Confidence: 9.0\n",
      "Index: 96, Label: Scientific and technical focus, Confidence: 9.0\n",
      "Index: 20, Label: Detailed explanations and technical content, Confidence: 8.0\n",
      "Index: 32, Label: Informative and complex content, Confidence: 8.0\n",
      "Index: 71, Label: Complete sentences with structured narratives, Confidence: 8.0\n",
      "Index: 68, Label: Informative and factual content, Confidence: 7.0\n",
      "Index: 42, Label: Scientific methods and biological concepts, Confidence: 7.0\n",
      "Index: 40, Label: Narrative and emotional expression, Confidence: 7.0\n",
      "Index: 47, Label: Emotionally and contextually rich narratives, Confidence: 7.0\n",
      "Index: 97, Label: Presence of personal anecdotes, Confidence: 5.0\n",
      "Index: 46, Label: Detailed examples and structured context, Confidence: 4.0\n",
      "Index: 23, Label: Creative and expressive language, Confidence: 3.0\n",
      "Index: 15, Label: Informative and structured content, Confidence: 2.0\n",
      "Index: 62, Label: Technical language and analysis, Confidence: 2.0\n",
      "Index: 83, Label: References to history and achievements, Confidence: 2.0\n",
      "Index: 95, Label: Detailed explanatory content, Confidence: 1.0\n",
      "Index: 50, Label: Constructive or positive reflections, Confidence: 1.0\n",
      "Index: 51, Label: Complexity and emotional engagement, Confidence: 1.0\n",
      "Index: 36, Label: Complex and nuanced content, Confidence: 0.0\n",
      "Index: 43, Label: Narrative quality with emotional engagement, Confidence: 0.0\n",
      "Index: 59, Label: Use of specialized academic language, Confidence: 0.0\n",
      "Index: 1, Label: Expressions of optimism and clarity, Confidence: 0.0\n",
      "Index: 76, Label: Health and social issue focus, Confidence: 0.0\n",
      "Index: 87, Label: Complex and narrative-rich content, Confidence: 0.0\n",
      "Index: 39, Label: Informative and academic tone, Confidence: 0.0\n",
      "Index: 65, Label: Complex and informative content, Confidence: 0.0\n",
      "Index: 21, Label: Complex and detailed sentence structures, Confidence: 0.0\n"
     ]
    }
   ],
   "source": [
    "for feature in features[:200]:\n",
    "    print(f\"Index: {feature.index}, Label: {feature.label}, Confidence: {feature.confidence}\")"
   ]
  },
  {
   "cell_type": "code",
   "execution_count": 15,
   "id": "c08166f3-a445-4a6b-a84c-ee7a147c9398",
   "metadata": {},
   "outputs": [],
   "source": [
    "device = 'cuda' if torch.cuda.is_available() else 'cpu'\n",
    "autoencoder = BottleneckT5Autoencoder(model_path='thesephist/contra-bottleneck-t5-base-wikipedia', device=device)"
   ]
  },
  {
   "cell_type": "code",
   "execution_count": 22,
   "id": "d2de037e",
   "metadata": {},
   "outputs": [
    {
     "data": {
      "text/plain": [
       "tensor(0., device='cuda:0', grad_fn=<SelectBackward0>)"
      ]
     },
     "execution_count": 22,
     "metadata": {},
     "output_type": "execute_result"
    }
   ],
   "source": [
    "# Ensure the model is on the correct device\n",
    "model = model.to(device)\n",
    "\n",
    "t = \"The theatre has undergone several updates before its move from the Dramacor by British Film Commission\"\n",
    "feature_index = 7\n",
    "\n",
    "embedding = autoencoder.embed(t)\n",
    "# Move the embedding to the same device as the model\n",
    "embedding = embedding.to(device)\n",
    "\n",
    "feature_activations = model.forward(embedding)[1]\n",
    "\n",
    "feature_activations[feature_index]"
   ]
  },
  {
   "cell_type": "code",
   "execution_count": 23,
   "id": "26f1d939-e93a-4839-9596-1578e7cc8de7",
   "metadata": {},
   "outputs": [
    {
     "name": "stdout",
     "output_type": "stream",
     "text": [
      "from the previous round (for the match between the teams), and\n"
     ]
    }
   ],
   "source": [
    "feature_activations[feature_index] = 20\n",
    "\n",
    "reconstruction = autoencoder.generate_from_latent(model.decode(feature_activations))\n",
    "\n",
    "print(reconstruction)"
   ]
  }
 ],
 "metadata": {
  "kernelspec": {
   "display_name": "Python 3 (ipykernel)",
   "language": "python",
   "name": "python3"
  },
  "language_info": {
   "codemirror_mode": {
    "name": "ipython",
    "version": 3
   },
   "file_extension": ".py",
   "mimetype": "text/x-python",
   "name": "python",
   "nbconvert_exporter": "python",
   "pygments_lexer": "ipython3",
   "version": "3.10.14"
  }
 },
 "nbformat": 4,
 "nbformat_minor": 5
}
