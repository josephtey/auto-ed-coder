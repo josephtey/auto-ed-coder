{
 "cells": [
  {
   "cell_type": "markdown",
   "id": "6f159a2b",
   "metadata": {},
   "source": [
    "import stuff"
   ]
  },
  {
   "cell_type": "code",
   "execution_count": 2,
   "id": "85e17e0a",
   "metadata": {},
   "outputs": [
    {
     "name": "stderr",
     "output_type": "stream",
     "text": [
      "/home/ubuntu/steering-collab/LLMonade/.venv/lib/python3.10/site-packages/pydantic/_internal/_config.py:341: UserWarning: Valid config keys have changed in V2:\n",
      "* 'allow_mutation' has been removed\n",
      "  warnings.warn(message, UserWarning)\n"
     ]
    }
   ],
   "source": [
    "from dotenv import load_dotenv\n",
    "import sys\n",
    "sys.path.append(\"../../\")\n",
    "from shared.models import MiniPileDataset\n",
    "from shared.contra import BottleneckT5Autoencoder\n",
    "from shared.interp import count_non_zero_feature_activations, plot_feature_activation_histogram\n",
    "from shared.features import Feature, FeatureSample\n",
    "import os\n",
    "import json\n",
    "import torch\n",
    "\n",
    "# Enable automatic reloading of modules when they change\n",
    "%load_ext autoreload\n",
    "%autoreload 2\n",
    "\n",
    "\n",
    "# Load environment variables from .env file\n",
    "load_dotenv()\n",
    "\n",
    "# Access the OpenAI API key from the environment variables\n",
    "openai_api_key = os.getenv(\"OPENAI_API_KEY\")\n"
   ]
  },
  {
   "cell_type": "code",
   "execution_count": 5,
   "id": "448a352c-0309-405b-984c-20ee7b44c774",
   "metadata": {},
   "outputs": [],
   "source": [
    "folder = \"../training_sae/saes/spam_messages_4_20241106_111701\""
   ]
  },
  {
   "cell_type": "code",
   "execution_count": 7,
   "id": "6ea26c24",
   "metadata": {},
   "outputs": [
    {
     "name": "stderr",
     "output_type": "stream",
     "text": [
      "/home/ubuntu/steering-collab/LLMonade/.venv/lib/python3.10/site-packages/torch/storage.py:414: FutureWarning: You are using `torch.load` with `weights_only=False` (the current default value), which uses the default pickle module implicitly. It is possible to construct malicious pickle data which will execute arbitrary code during unpickling (See https://github.com/pytorch/pytorch/blob/main/SECURITY.md#untrusted-models for more details). In a future release, the default value for `weights_only` will be flipped to `True`. This limits the functions that could be executed during unpickling. Arbitrary objects will no longer be allowed to be loaded via this mode unless they are explicitly allowlisted by the user via `torch.serialization.add_safe_globals`. We recommend you start setting `weights_only=True` for any use case where you don't have full control of the loaded file. Please open an issue on GitHub for any issues related to this experimental feature.\n",
      "  return torch.load(io.BytesIO(b))\n"
     ]
    }
   ],
   "source": [
    "# Load the model from the pickle file\n",
    "import pickle \n",
    "import sys\n",
    "import os\n",
    "\n",
    "from shared.sparse_autoencoder import SparseAutoencoder, SparseAutoencoderConfig\n",
    "import json\n",
    "\n",
    "# load the dataset\n",
    "sentences_file = \"../data_preparation/chunking/chunked_datasets/spam_messages_train_20241106_095507.csv\"\n",
    "embeddings_file = \"../data_preparation/embedding_chunks/embedded_chunks/spam_messages_4_20241106_110416/embeddings.npy\"\n",
    "mini_pile_dataset = MiniPileDataset(sentences_file, embeddings_file)\n",
    "\n",
    "# Load the configuration from the JSON file\n",
    "config_path = os.path.join(folder, 'config.json')\n",
    "with open(config_path, \"r\") as config_file:\n",
    "    config = json.load(config_file)\n",
    "\n",
    "# Load the pre-trained model from the pickle file\n",
    "sae_config = SparseAutoencoderConfig(d_model=config[\"dimensions\"], d_sparse=8 * config[\"dimensions\"], sparsity_alpha=config[\"sparsity_alpha\"])\n",
    "model = SparseAutoencoder(sae_config)\n",
    "\n",
    "with open(os.path.join(folder, 'sae.pkl'), \"rb\") as f:\n",
    "    model_state_dict = pickle.load(f)\n",
    "    model.load_state_dict(model_state_dict)"
   ]
  },
  {
   "cell_type": "code",
   "execution_count": 8,
   "id": "8ff0083b",
   "metadata": {},
   "outputs": [
    {
     "name": "stdout",
     "output_type": "stream",
     "text": [
      "Log feature densities loaded successfully.\n"
     ]
    }
   ],
   "source": [
    "# Load the log feature densities from the JSON file\n",
    "log_feature_densities_path = os.path.join(folder, \"log_feature_densities.json\")\n",
    "with open(log_feature_densities_path, \"r\") as json_file:\n",
    "    log_feature_densities = json.load(json_file)\n",
    "\n",
    "print(\"Log feature densities loaded successfully.\")\n"
   ]
  },
  {
   "cell_type": "markdown",
   "id": "b075f11f",
   "metadata": {},
   "source": [
    "interpret the feature activations"
   ]
  },
  {
   "cell_type": "code",
   "execution_count": 3,
   "id": "92dd1a07",
   "metadata": {},
   "outputs": [
    {
     "ename": "NameError",
     "evalue": "name 'log_feature_densities' is not defined",
     "output_type": "error",
     "traceback": [
      "\u001b[0;31m---------------------------------------------------------------------------\u001b[0m",
      "\u001b[0;31mNameError\u001b[0m                                 Traceback (most recent call last)",
      "Cell \u001b[0;32mIn[3], line 1\u001b[0m\n\u001b[0;32m----> 1\u001b[0m training_step \u001b[38;5;241m=\u001b[39m \u001b[38;5;28mlen\u001b[39m(\u001b[43mlog_feature_densities\u001b[49m) \u001b[38;5;241m-\u001b[39m \u001b[38;5;241m5\u001b[39m\n\u001b[1;32m      2\u001b[0m feature_activations \u001b[38;5;241m=\u001b[39m log_feature_densities[training_step]\n\u001b[1;32m      4\u001b[0m \u001b[38;5;66;03m# Filter out -inf values\u001b[39;00m\n",
      "\u001b[0;31mNameError\u001b[0m: name 'log_feature_densities' is not defined"
     ]
    }
   ],
   "source": [
    "training_step = len(log_feature_densities) - 5\n",
    "feature_activations = log_feature_densities[training_step]\n",
    "\n",
    "# Filter out -inf values\n",
    "filtered_feature_activations = [fa for fa in feature_activations if fa != -float('inf')]\n",
    "print(\"len(filtered_feature_activations)\", len(filtered_feature_activations))\n",
    "\n",
    "import matplotlib.pyplot as plt\n",
    "\n",
    "# Plotting the histogram of feature activations\n",
    "plt.figure(figsize=(10, 6))\n",
    "plt.hist(filtered_feature_activations, bins=30, edgecolor='black', alpha=0.7)\n",
    "plt.xlabel(\"Log Feature Densities\", fontsize=14)\n",
    "plt.ylabel(\"Count\", fontsize=14)\n",
    "plt.title(\"Histogram of Feature Activations\", fontsize=16)\n",
    "plt.grid(True)\n",
    "plt.show()\n"
   ]
  },
  {
   "cell_type": "code",
   "execution_count": 6,
   "id": "d5d1986e",
   "metadata": {},
   "outputs": [
    {
     "data": {
      "text/plain": [
       "47392"
      ]
     },
     "execution_count": 6,
     "metadata": {},
     "output_type": "execute_result"
    }
   ],
   "source": [
    "len(mini_pile_dataset)"
   ]
  },
  {
   "cell_type": "code",
   "execution_count": 10,
   "id": "b60331aa",
   "metadata": {},
   "outputs": [
    {
     "name": "stdout",
     "output_type": "stream",
     "text": [
      "Average Non-Zero Elements for first 1000 samples: 19.152000427246094\n",
      "Average Percentage of Non-Zero Elements: 0.31%\n"
     ]
    }
   ],
   "source": [
    "count_non_zero_feature_activations(model, mini_pile_dataset, 1000)"
   ]
  },
  {
   "cell_type": "code",
   "execution_count": 11,
   "id": "e0f29946",
   "metadata": {},
   "outputs": [
    {
     "data": {
      "image/png": "[encoded data removed]",
      "text/plain": [
       "<Figure size 1000x600 with 1 Axes>"
      ]
     },
     "metadata": {},
     "output_type": "display_data"
    }
   ],
   "source": [
    "plot_feature_activation_histogram(model, mini_pile_dataset)"
   ]
  },
  {
   "cell_type": "markdown",
   "id": "f56a5c60",
   "metadata": {},
   "source": [
    "automated interp pipeline: analysis"
   ]
  },
  {
   "cell_type": "code",
   "execution_count": 4,
   "id": "f8629a42",
   "metadata": {},
   "outputs": [
    {
     "name": "stdout",
     "output_type": "stream",
     "text": [
      "Number of filtered out samples: 1\n"
     ]
    }
   ],
   "source": [
    "import os\n",
    "import json\n",
    "\n",
    "features_folder = \"../feature_extraction/features/20241106_222955\"\n",
    "features = []\n",
    "filtered_out_count = 0\n",
    "\n",
    "for filename in os.listdir(features_folder):\n",
    "    if filename.startswith(\"feature_\") and filename.endswith(\".json\"):\n",
    "        with open(os.path.join(features_folder, filename), \"r\") as json_file:\n",
    "            feature_data = json.load(json_file)\n",
    "            feature = Feature(**feature_data)\n",
    "            if len(feature.high_act_samples) >= 10:\n",
    "                features.append(feature)\n",
    "            else:\n",
    "                filtered_out_count += 1\n",
    "\n",
    "features.sort(key=lambda x: x.confidence, reverse=True)\n",
    "\n",
    "print(f\"Number of filtered out samples: {filtered_out_count}\")"
   ]
  },
  {
   "cell_type": "code",
   "execution_count": 5,
   "id": "ab6a65f8",
   "metadata": {},
   "outputs": [
    {
     "name": "stdout",
     "output_type": "stream",
     "text": [
      "Index: 83, Label: Focus on favorable company performance, Confidence: 100.0\n",
      "Index: 63, Label: Contains emojis and stylized text, Confidence: 100.0\n",
      "Index: 2, Label: Repetitive specific phrase detected, Confidence: 100.0\n",
      "Index: 125, Label: Repetitive phrase, Confidence: 100.0\n",
      "Index: 167, Label: Personal and analytical communication, Confidence: 100.0\n",
      "Index: 124, Label: Repetitive announcement phrase, Confidence: 95.0\n",
      "Index: 153, Label: Distinct punctuation and repetition, Confidence: 90.0\n",
      "Index: 45, Label: Financial terminology in texts, Confidence: 88.0\n",
      "Index: 113, Label: Promotional style with emojis and finance, Confidence: 85.0\n",
      "Index: 4, Label: Contains contact information, Confidence: 80.0\n",
      "Index: 81, Label: Mentions Vikings and sports content, Confidence: 80.0\n",
      "Index: 60, Label: Business and finance communication in Polish, Confidence: 79.0\n",
      "Index: 71, Label: Incomplete URL presence, Confidence: 79.0\n",
      "Index: 171, Label: Repetitive formal procedural content, Confidence: 77.0\n",
      "Index: 23, Label: Decorative promotional transaction-oriented text, Confidence: 77.0\n",
      "Index: 39, Label: Text with special patterns and symbols, Confidence: 75.0\n",
      "Index: 28, Label: Stock market activity focus, Confidence: 75.0\n",
      "Index: 0, Label: Conversational and predictive context, Confidence: 74.0\n",
      "Index: 103, Label: Financial data and email error messages, Confidence: 72.0\n",
      "Index: 46, Label: Duplicate content in texts, Confidence: 71.0\n",
      "Index: 117, Label: Fragmented promotional text style, Confidence: 70.0\n",
      "Index: 131, Label: Promotional content with stylized text, Confidence: 70.0\n",
      "Index: 25, Label: Promotional or persuasive text, Confidence: 69.0\n",
      "Index: 104, Label: Informal and personal communication, Confidence: 68.0\n",
      "Index: 22, Label: Promotional content with advancements, Confidence: 67.0\n",
      "Index: 73, Label: Promotional and transactional text elements, Confidence: 66.0\n",
      "Index: 47, Label: Repetitive text structure, Confidence: 66.0\n",
      "Index: 154, Label: Promotional health-related content, Confidence: 63.0\n",
      "Index: 91, Label: Promotional or incentivizing language, Confidence: 63.0\n",
      "Index: 139, Label: Promotional or urgent communication, Confidence: 62.0\n",
      "Index: 98, Label: Informal promotional online content, Confidence: 62.0\n",
      "Index: 96, Label: Promotional or marketing language, Confidence: 60.0\n",
      "Index: 48, Label: Promotional and symbolic content, Confidence: 60.0\n",
      "Index: 147, Label: Contains text resembling URLs, Confidence: 57.0\n",
      "Index: 29, Label: Numeric financial data references, Confidence: 57.0\n",
      "Index: 175, Label: Promotional and transactional content, Confidence: 57.0\n",
      "Index: 198, Label: Promotional and solicitation language, Confidence: 56.0\n",
      "Index: 78, Label: Corporate financial activity mentions, Confidence: 55.0\n",
      "Index: 85, Label: Informal and fragmented language, Confidence: 55.0\n",
      "Index: 161, Label: Coherent narrative with context, Confidence: 55.0\n",
      "Index: 180, Label: Narrative of personal or financial distress, Confidence: 54.0\n",
      "Index: 112, Label: Contains finance-specific content, Confidence: 54.0\n",
      "Index: 50, Label: Spam-like promotional content, Confidence: 54.0\n",
      "Index: 13, Label: Commercial promotional content, Confidence: 53.0\n",
      "Index: 106, Label: Medical marketing language, Confidence: 53.0\n",
      "Index: 188, Label: Promotional or instructional content, Confidence: 53.0\n",
      "Index: 8, Label: Informal internet communication style, Confidence: 52.0\n",
      "Index: 152, Label: URL and financial jargon inclusivity, Confidence: 50.0\n",
      "Index: 136, Label: Formal and urgent communication, Confidence: 50.0\n",
      "Index: 34, Label: Styled text with symbols for services, Confidence: 50.0\n",
      "Index: 43, Label: Personal health and guidance focus, Confidence: 50.0\n",
      "Index: 61, Label: Structured data fields presence, Confidence: 50.0\n",
      "Index: 40, Label: Samples with email addresses, Confidence: 50.0\n",
      "Index: 191, Label: Text with promotional content, Confidence: 50.0\n",
      "Index: 194, Label: Online promotion with pricing, Confidence: 50.0\n",
      "Index: 44, Label: Promotional or customer service content, Confidence: 49.0\n",
      "Index: 62, Label: Professional and technical context references, Confidence: 48.0\n",
      "Index: 126, Label: Concise commercial and emotive expressions, Confidence: 47.0\n",
      "Index: 11, Label: Promotional and commercial language, Confidence: 45.0\n",
      "Index: 38, Label: Repetitive or non-standard language, Confidence: 45.0\n",
      "Index: 95, Label: Formal business or product details, Confidence: 45.0\n",
      "Index: 86, Label: Corporate and financial communication, Confidence: 44.0\n",
      "Index: 176, Label: Presence of typographical artifacts, Confidence: 44.0\n",
      "Index: 89, Label: Finance and economics context, Confidence: 44.0\n",
      "Index: 196, Label: Repetitive instructional text, Confidence: 44.0\n",
      "Index: 27, Label: Business and corporate communication, Confidence: 44.0\n",
      "Index: 141, Label: Repetitive and informal text style, Confidence: 44.0\n",
      "Index: 30, Label: Promotional and opportunity-focused language, Confidence: 44.0\n",
      "Index: 110, Label: Repetitive disclaimer and punctuation pattern, Confidence: 44.0\n",
      "Index: 101, Label: Business and financial context, Confidence: 44.0\n",
      "Index: 150, Label: Commercial promotional content with symbols, Confidence: 43.0\n",
      "Index: 165, Label: Elongated vowels in promotional content, Confidence: 42.0\n",
      "Index: 88, Label: Scam-like or spam-related text style, Confidence: 41.0\n",
      "Index: 183, Label: Direct engagement and calls to action, Confidence: 41.0\n",
      "Index: 133, Label: Fragmented repeated structured data patterns, Confidence: 40.0\n",
      "Index: 93, Label: Promotional or transaction-oriented message, Confidence: 40.0\n",
      "Index: 118, Label: Contains promotional content, Confidence: 40.0\n",
      "Index: 100, Label: Exaggerated claims and unverified offers, Confidence: 39.0\n",
      "Index: 137, Label: Repetitive text sequences, Confidence: 39.0\n",
      "Index: 84, Label: Inspirational or experiential style, Confidence: 39.0\n",
      "Index: 116, Label: Promotional or advertising language, Confidence: 38.0\n",
      "Index: 144, Label: Commercial transaction language, Confidence: 38.0\n",
      "Index: 77, Label: Monetary value references, Confidence: 37.0\n",
      "Index: 42, Label: Contains URLs or email addresses, Confidence: 37.0\n",
      "Index: 159, Label: Conversational and motivational content, Confidence: 36.0\n",
      "Index: 186, Label: Structured meaningful sentences with context, Confidence: 35.0\n",
      "Index: 72, Label: Professional business language and context, Confidence: 34.0\n",
      "Index: 1, Label: Contains emojis or emoticons, Confidence: 33.0\n",
      "Index: 199, Label: Creative language constructs, Confidence: 33.0\n",
      "Index: 102, Label: Special typography and decoration use, Confidence: 33.0\n",
      "Index: 51, Label: Unsolicited or fraudulent offers and content, Confidence: 33.0\n",
      "Index: 75, Label: Conversational promotional language with reassurances, Confidence: 33.0\n",
      "Index: 158, Label: US dollar amounts present, Confidence: 32.0\n",
      "Index: 115, Label: Nonsensical text elements, Confidence: 32.0\n",
      "Index: 143, Label: Promotional and persuasive messaging, Confidence: 31.0\n",
      "Index: 129, Label: Contains promotional call to action, Confidence: 31.0\n",
      "Index: 109, Label: Spam-like promotional language, Confidence: 30.0\n",
      "Index: 193, Label: Contains marketing or spam language, Confidence: 30.0\n",
      "Index: 174, Label: Unpolished grammar and fragmented sentences, Confidence: 30.0\n",
      "Index: 192, Label: Structured financial and web content, Confidence: 30.0\n",
      "Index: 59, Label: Polish language and detailed structures, Confidence: 30.0\n",
      "Index: 108, Label: Online and electronic communication elements, Confidence: 30.0\n",
      "Index: 54, Label: Informal and promotional text language, Confidence: 30.0\n",
      "Index: 185, Label: Promotional or sensitive content presence, Confidence: 30.0\n",
      "Index: 94, Label: Technical business language with companies, Confidence: 30.0\n",
      "Index: 97, Label: Contains direct call to action, Confidence: 30.0\n",
      "Index: 127, Label: Non-standard internet communication, Confidence: 30.0\n",
      "Index: 151, Label: Patterns of promotional content, Confidence: 30.0\n",
      "Index: 121, Label: Spam-like and promotional structure, Confidence: 30.0\n",
      "Index: 26, Label: Electronic contact information fragments, Confidence: 30.0\n",
      "Index: 58, Label: Expressions of positive sentiment, Confidence: 30.0\n",
      "Index: 87, Label: Financial and promotional content, Confidence: 30.0\n",
      "Index: 12, Label: Informal and engaging communication style, Confidence: 30.0\n",
      "Index: 7, Label: Spam or promotional communication, Confidence: 29.0\n",
      "Index: 162, Label: Investment and financial discussions, Confidence: 29.0\n",
      "Index: 160, Label: Promotional language with calls to action, Confidence: 29.0\n",
      "Index: 168, Label: Informal and casual language usage, Confidence: 29.0\n",
      "Index: 80, Label: Formal business and professional context, Confidence: 29.0\n",
      "Index: 10, Label: Repetitive formal announcements with numbers, Confidence: 28.0\n",
      "Index: 163, Label: Contains Polish phrases, Confidence: 28.0\n",
      "Index: 35, Label: Creative and abstract language usage, Confidence: 28.0\n",
      "Index: 31, Label: Informal promotional or scam characteristics, Confidence: 27.0\n",
      "Index: 172, Label: Solicitation with call to action, Confidence: 27.0\n",
      "Index: 49, Label: Mentions currency and transactions, Confidence: 27.0\n",
      "Index: 166, Label: Financial and market-related content, Confidence: 27.0\n",
      "Index: 18, Label: Financial optimism and investment focus, Confidence: 26.0\n",
      "Index: 20, Label: Spam or promotional indication, Confidence: 26.0\n",
      "Index: 56, Label: Structured promotional or enticing content, Confidence: 25.0\n",
      "Index: 197, Label: Persuasive financial opportunity language, Confidence: 25.0\n",
      "Index: 99, Label: Promotional or transactional text patterns, Confidence: 25.0\n",
      "Index: 140, Label: Finance-related calls to action, Confidence: 25.0\n",
      "Index: 123, Label: Commercial or technical context present, Confidence: 25.0\n",
      "Index: 195, Label: Financial jargon with unusual formatting, Confidence: 25.0\n",
      "Index: 67, Label: Marketing and promotional language, Confidence: 24.0\n",
      "Index: 122, Label: Financial gain discussion, Confidence: 21.0\n",
      "Index: 105, Label: Promotional or call-to-action content, Confidence: 21.0\n",
      "Index: 187, Label: Casual and stylistic writing style, Confidence: 20.0\n",
      "Index: 155, Label: Conversational and personal communication, Confidence: 20.0\n",
      "Index: 145, Label: Business and financial context present, Confidence: 20.0\n",
      "Index: 19, Label: Contains email address formats, Confidence: 20.0\n",
      "Index: 184, Label: Text patterns with irregular punctuation, Confidence: 20.0\n",
      "Index: 157, Label: Formal and financial communications, Confidence: 20.0\n",
      "Index: 169, Label: Repetitive letters and unusual URL spacing, Confidence: 20.0\n",
      "Index: 132, Label: Contains direct actions or expressions, Confidence: 20.0\n",
      "Index: 79, Label: Legal and financial context references, Confidence: 19.0\n",
      "Index: 135, Label: Promotional investment content, Confidence: 18.0\n",
      "Index: 92, Label: Explicit calls to action, Confidence: 18.0\n",
      "Index: 149, Label: Transactional and task-focused messages, Confidence: 18.0\n",
      "Index: 138, Label: Technology and business oriented, Confidence: 17.0\n",
      "Index: 16, Label: Contains repeated phrases, Confidence: 17.0\n",
      "Index: 65, Label: Commercial and promotional content, Confidence: 17.0\n",
      "Index: 90, Label: Informal and promotional tone, Confidence: 17.0\n",
      "Index: 57, Label: Promotional and interaction-focused language, Confidence: 17.0\n",
      "Index: 3, Label: Financial and investment context, Confidence: 17.0\n",
      "Index: 156, Label: Service interaction or control messages, Confidence: 17.0\n",
      "Index: 68, Label: Business and operational references, Confidence: 16.0\n",
      "Index: 82, Label: Informal and promotional tone, Confidence: 15.0\n",
      "Index: 130, Label: Transactional or promotional language, Confidence: 15.0\n",
      "Index: 24, Label: Contains non-standard and special characters, Confidence: 15.0\n",
      "Index: 6, Label: Unusual punctuation and structure, Confidence: 15.0\n",
      "Index: 55, Label: Promotional or enticing language, Confidence: 14.0\n",
      "Index: 142, Label: Spam or scam text messages, Confidence: 14.0\n",
      "Index: 107, Label: Persuasive and promotional tone, Confidence: 14.0\n",
      "Index: 181, Label: Calls to action and promotions, Confidence: 14.0\n",
      "Index: 164, Label: Proposals or offers with specific incentives, Confidence: 13.0\n",
      "Index: 14, Label: Contains sports scores and updates, Confidence: 13.0\n",
      "Index: 189, Label: Financial and corporate discourse, Confidence: 12.0\n",
      "Index: 74, Label: Congratulatory and financial gain language, Confidence: 11.0\n",
      "Index: 120, Label: Formal financial and inquiry communication, Confidence: 10.0\n",
      "Index: 5, Label: Promotional or commercial tone, Confidence: 10.0\n",
      "Index: 41, Label: Geopolitical strategic focus, Confidence: 10.0\n",
      "Index: 37, Label: Characteristics of persuasive digital communication, Confidence: 10.0\n",
      "Index: 146, Label: Factual and instructive statements, Confidence: 10.0\n",
      "Index: 17, Label: Grammatically structured full sentences, Confidence: 10.0\n",
      "Index: 148, Label: Formal and business-oriented communication, Confidence: 10.0\n",
      "Index: 64, Label: Financial jargon and terminology, Confidence: 9.0\n",
      "Index: 53, Label: Organizational initiatives and ethics, Confidence: 7.0\n",
      "Index: 170, Label: Promotional and financial suggestive language, Confidence: 7.0\n",
      "Index: 111, Label: Financial promotion and market growth, Confidence: 7.0\n",
      "Index: 173, Label: Promotional or service-oriented text, Confidence: 6.0\n",
      "Index: 182, Label: Bold styled Unicode present, Confidence: 6.0\n",
      "Index: 177, Label: Contains religious references, Confidence: 6.0\n",
      "Index: 21, Label: Fragmented, urgent, obfuscated text patterns, Confidence: 6.0\n",
      "Index: 134, Label: Monetary and financial references, Confidence: 6.0\n",
      "Index: 15, Label: Speculative and conditional language use, Confidence: 5.0\n",
      "Index: 36, Label: Non-standard syntax and repetition, Confidence: 5.0\n",
      "Index: 52, Label: Direct engagement and personal promo, Confidence: 5.0\n",
      "Index: 76, Label: Formal business and financial context, Confidence: 5.0\n",
      "Index: 179, Label: Structured and formal communication, Confidence: 5.0\n",
      "Index: 128, Label: Formal structured communication elements, Confidence: 5.0\n",
      "Index: 69, Label: Promotional or advertising content, Confidence: 4.0\n",
      "Index: 178, Label: Business or commercial communication theme, Confidence: 3.0\n",
      "Index: 119, Label: References to finance or gambling, Confidence: 2.0\n",
      "Index: 33, Label: Repetitive pattern and phrase sequences, Confidence: 0.0\n",
      "Index: 66, Label: Promotional or advertorial text, Confidence: 0.0\n",
      "Index: 9, Label: Specific financial and technical details, Confidence: 0.0\n",
      "Index: 114, Label: Transactional and structured communication, Confidence: 0.0\n",
      "Index: 70, Label: Irregular and fragmented text pattern, Confidence: 0.0\n",
      "Index: 32, Label: Unicode and emoji rich spam, Confidence: 0.0\n"
     ]
    }
   ],
   "source": [
    "for feature in features[:200]:\n",
    "    print(f\"Index: {feature.index}, Label: {feature.label}, Confidence: {feature.confidence}\")"
   ]
  },
  {
   "cell_type": "code",
   "execution_count": 15,
   "id": "c08166f3-a445-4a6b-a84c-ee7a147c9398",
   "metadata": {},
   "outputs": [],
   "source": [
    "device = 'cuda' if torch.cuda.is_available() else 'cpu'\n",
    "autoencoder = BottleneckT5Autoencoder(model_path='thesephist/contra-bottleneck-t5-base-wikipedia', device=device)"
   ]
  },
  {
   "cell_type": "code",
   "execution_count": 22,
   "id": "d2de037e",
   "metadata": {},
   "outputs": [
    {
     "data": {
      "text/plain": [
       "tensor(0., device='cuda:0', grad_fn=<SelectBackward0>)"
      ]
     },
     "execution_count": 22,
     "metadata": {},
     "output_type": "execute_result"
    }
   ],
   "source": [
    "# Ensure the model is on the correct device\n",
    "model = model.to(device)\n",
    "\n",
    "t = \"The theatre has undergone several updates before its move from the Dramacor by British Film Commission\"\n",
    "feature_index = 7\n",
    "\n",
    "embedding = autoencoder.embed(t)\n",
    "# Move the embedding to the same device as the model\n",
    "embedding = embedding.to(device)\n",
    "\n",
    "feature_activations = model.forward(embedding)[1]\n",
    "\n",
    "feature_activations[feature_index]"
   ]
  },
  {
   "cell_type": "code",
   "execution_count": 23,
   "id": "26f1d939-e93a-4839-9596-1578e7cc8de7",
   "metadata": {},
   "outputs": [
    {
     "name": "stdout",
     "output_type": "stream",
     "text": [
      "from the previous round (for the match between the teams), and\n"
     ]
    }
   ],
   "source": [
    "feature_activations[feature_index] = 20\n",
    "\n",
    "reconstruction = autoencoder.generate_from_latent(model.decode(feature_activations))\n",
    "\n",
    "print(reconstruction)"
   ]
  }
 ],
 "metadata": {
  "kernelspec": {
   "display_name": "Python 3 (ipykernel)",
   "language": "python",
   "name": "python3"
  },
  "language_info": {
   "codemirror_mode": {
    "name": "ipython",
    "version": 3
   },
   "file_extension": ".py",
   "mimetype": "text/x-python",
   "name": "python",
   "nbconvert_exporter": "python",
   "pygments_lexer": "ipython3",
   "version": "3.10.12"
  }
 },
 "nbformat": 4,
 "nbformat_minor": 5
}
