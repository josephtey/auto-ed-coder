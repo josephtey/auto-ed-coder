{
 "cells": [
  {
   "cell_type": "markdown",
   "id": "6f159a2b",
   "metadata": {},
   "source": [
    "import stuff"
   ]
  },
  {
   "cell_type": "code",
   "execution_count": 6,
   "id": "85e17e0a",
   "metadata": {},
   "outputs": [],
   "source": [
    "from dotenv import load_dotenv\n",
    "from utils.models import MiniPileDataset\n",
    "from utils.interp import count_non_zero_feature_activations, plot_feature_activation_histogram\n",
    "import os\n",
    "\n",
    "# Enable automatic reloading of modules when they change\n",
    "%load_ext autoreload\n",
    "%autoreload 2\n",
    "\n",
    "\n",
    "# Load environment variables from .env file\n",
    "load_dotenv()\n",
    "\n",
    "# Access the OpenAI API key from the environment variables\n",
    "openai_api_key = os.getenv(\"OPENAI_API_KEY\")\n"
   ]
  },
  {
   "cell_type": "code",
   "execution_count": 10,
   "id": "6ea26c24",
   "metadata": {},
   "outputs": [
    {
     "name": "stderr",
     "output_type": "stream",
     "text": [
      "/Users/josephtey/Projects/auto-ed-coder/venv/lib/python3.9/site-packages/tqdm/auto.py:21: TqdmWarning: IProgress not found. Please update jupyter and ipywidgets. See https://ipywidgets.readthedocs.io/en/stable/user_install.html\n",
      "  from .autonotebook import tqdm as notebook_tqdm\n"
     ]
    }
   ],
   "source": [
    "# Load the model from the pickle file\n",
    "import pickle \n",
    "from utils.sae import SparseAutoencoder, SparseAutoencoderConfig\n",
    "import json\n",
    "\n",
    "# load the dataset\n",
    "file_name = \"files/all_sentences_with_embeddings_20240707_132959.pkl\"\n",
    "with open(file_name, \"rb\") as f:\n",
    "    mini_pile_dataset = pickle.load(f)\n",
    "\n",
    "# Load the configuration from the JSON file\n",
    "config_path = \"sae/20240708_195600_config.json\"\n",
    "with open(config_path, \"r\") as config_file:\n",
    "    config = json.load(config_file)\n",
    "\n",
    "# Load the pre-trained model from the pickle file\n",
    "sae_config = SparseAutoencoderConfig(d_model=config[\"dimensions\"], d_sparse=8 * config[\"dimensions\"], sparsity_alpha=config[\"sparsity_alpha\"])\n",
    "model = SparseAutoencoder(sae_config)\n",
    "model_path = \"sae/20240708_195600_sae.pkl\"\n",
    "with open(model_path, \"rb\") as f:\n",
    "    model_state_dict = pickle.load(f)\n",
    "    model.load_state_dict(model_state_dict)"
   ]
  },
  {
   "cell_type": "markdown",
   "id": "b075f11f",
   "metadata": {},
   "source": [
    "interpret the feature activations"
   ]
  },
  {
   "cell_type": "code",
   "execution_count": 11,
   "id": "b60331aa",
   "metadata": {},
   "outputs": [
    {
     "name": "stdout",
     "output_type": "stream",
     "text": [
      "Average Non-Zero Elements for first 100 samples: 12.8100004196167\n"
     ]
    }
   ],
   "source": [
    "count_non_zero_feature_activations(model, mini_pile_dataset)"
   ]
  },
  {
   "cell_type": "code",
   "execution_count": null,
   "id": "e0f29946",
   "metadata": {},
   "outputs": [],
   "source": [
    "plot_feature_activation_histogram(model, mini_pile_dataset)"
   ]
  },
  {
   "cell_type": "code",
   "execution_count": null,
   "id": "78203dda",
   "metadata": {},
   "outputs": [],
   "source": []
  }
 ],
 "metadata": {
  "kernelspec": {
   "display_name": "Python 3 (ipykernel)",
   "language": "python",
   "name": "python3"
  },
  "language_info": {
   "codemirror_mode": {
    "name": "ipython",
    "version": 3
   },
   "file_extension": ".py",
   "mimetype": "text/x-python",
   "name": "python",
   "nbconvert_exporter": "python",
   "pygments_lexer": "ipython3",
   "version": "3.9.0"
  }
 },
 "nbformat": 4,
 "nbformat_minor": 5
}
