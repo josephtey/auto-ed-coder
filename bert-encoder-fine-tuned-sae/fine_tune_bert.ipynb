{
 "cells": [
  {
   "cell_type": "code",
   "execution_count": 42,
   "id": "d6b6b5fa-d17c-4ce6-895b-7df6d0b93e96",
   "metadata": {},
   "outputs": [],
   "source": [
    "import numpy as np"
   ]
  },
  {
   "cell_type": "code",
   "execution_count": 14,
   "id": "9f445823-2fea-4d67-bdcf-c9d81d210497",
   "metadata": {},
   "outputs": [
    {
     "data": {
      "application/vnd.jupyter.widget-view+json": {
       "model_id": "d8de0d02893946169b038ce891a2b91d",
       "version_major": 2,
       "version_minor": 0
      },
      "text/plain": [
       "VBox(children=(HTML(value='<center> <img\\nsrc=https://huggingface.co/front/assets/huggingface_logo-noborder.sv…"
      ]
     },
     "metadata": {},
     "output_type": "display_data"
    }
   ],
   "source": [
    "from huggingface_hub import notebook_login\n",
    "\n",
    "notebook_login()"
   ]
  },
  {
   "cell_type": "code",
   "execution_count": 1,
   "id": "c6165636-1bc7-47fe-a774-ce8437f961f2",
   "metadata": {},
   "outputs": [],
   "source": [
    "import pickle\n",
    "import pandas as pd\n",
    "set_id = 3\n",
    "splits = pickle.load(open(f\"../shared/cv1.pkl\", \"rb\"))\n",
    "dataset = pd.read_csv(f\"../shared/df.csv\")\n",
    "\n",
    "for split_name, ids in splits.items():\n",
    "  int_ids = [int(id) for id in ids]\n",
    "  dataset.loc[dataset[\"Id\"].isin(int_ids), \"split_custom\"] = (\n",
    "      split_name\n",
    "  )"
   ]
  },
  {
   "cell_type": "code",
   "execution_count": 2,
   "id": "d6da7355-c35d-4211-9d92-4dc7b01aa93c",
   "metadata": {},
   "outputs": [],
   "source": [
    "from datasets import Dataset, DatasetDict\n",
    "from datasets.features import ClassLabel, Value\n",
    "\n",
    "# Rename dataset columns\n",
    "dataset.rename(columns={\"Score1\": \"label\", \"EssayText\": \"essay\", \"Id\": \"idx\"}, inplace=True)\n",
    "# Drop every other column in the dataset aside from 'label', 'essay', and 'idx'\n",
    "columns_to_keep = ['label', 'essay', 'idx', \"split_custom\"]\n",
    "columns_to_drop = [col for i, col in enumerate(dataset.columns) if col not in columns_to_keep]\n",
    "dataset_new = dataset.drop(columns=columns_to_drop)\n",
    "\n",
    "# Create a function to map the split names to the dataset format\n",
    "def create_dataset_dict(dataset):\n",
    "    dataset_dict = {}\n",
    "    for split_name in dataset[\"split_custom\"].unique():\n",
    "        split_data = dataset[dataset[\"split_custom\"] == split_name]\n",
    "        dataset_dict[split_name] = Dataset.from_pandas(split_data)\n",
    "\n",
    "    # Drop the 'split_custom' column from each split in the dataset_dict\n",
    "    for split_name in dataset_dict:\n",
    "        dataset_dict[split_name] = dataset_dict[split_name].remove_columns(\"split_custom\")    \n",
    "\n",
    "    return dataset_dict\n",
    "\n",
    "# Convert the dataset to DatasetDict format\n",
    "dataset_dict = create_dataset_dict(dataset_new)\n",
    "\n",
    "# Create the final DatasetDict object\n",
    "dataset_dict = DatasetDict(dataset_dict)\n"
   ]
  },
  {
   "cell_type": "code",
   "execution_count": 3,
   "id": "5e2a4578-3909-4bca-8917-dd149b7b2279",
   "metadata": {},
   "outputs": [],
   "source": [
    "model_checkpoint = \"bert-base-uncased\"\n",
    "task=\"set_3\"\n",
    "batch_size = 16"
   ]
  },
  {
   "cell_type": "code",
   "execution_count": 4,
   "id": "1fdcfec5-6d90-435c-bf7f-deebd6ef44d1",
   "metadata": {},
   "outputs": [
    {
     "data": {
      "application/vnd.jupyter.widget-view+json": {
       "model_id": "5186713a3c864c879e7750f08ae547ba",
       "version_major": 2,
       "version_minor": 0
      },
      "text/plain": [
       "Downloading:   0%|          | 0.00/48.0 [00:00<?, ?B/s]"
      ]
     },
     "metadata": {},
     "output_type": "display_data"
    },
    {
     "data": {
      "application/vnd.jupyter.widget-view+json": {
       "model_id": "4785a77679984eeca068dbbf0e5c16e8",
       "version_major": 2,
       "version_minor": 0
      },
      "text/plain": [
       "Downloading:   0%|          | 0.00/570 [00:00<?, ?B/s]"
      ]
     },
     "metadata": {},
     "output_type": "display_data"
    },
    {
     "data": {
      "application/vnd.jupyter.widget-view+json": {
       "model_id": "74245a5b7142447fb67ffee9436346e9",
       "version_major": 2,
       "version_minor": 0
      },
      "text/plain": [
       "Downloading:   0%|          | 0.00/226k [00:00<?, ?B/s]"
      ]
     },
     "metadata": {},
     "output_type": "display_data"
    },
    {
     "data": {
      "application/vnd.jupyter.widget-view+json": {
       "model_id": "015510a2f04149babb6995b356ab2125",
       "version_major": 2,
       "version_minor": 0
      },
      "text/plain": [
       "Downloading:   0%|          | 0.00/455k [00:00<?, ?B/s]"
      ]
     },
     "metadata": {},
     "output_type": "display_data"
    }
   ],
   "source": [
    "from transformers import AutoTokenizer\n",
    "    \n",
    "tokenizer = AutoTokenizer.from_pretrained(model_checkpoint, use_fast=True)"
   ]
  },
  {
   "cell_type": "code",
   "execution_count": 28,
   "id": "ad2a1594-ce3e-416a-94f3-ce168e0fb588",
   "metadata": {},
   "outputs": [],
   "source": [
    "def preprocess_function(examples):\n",
    "    return tokenizer(examples[\"essay\"], truncation=True)"
   ]
  },
  {
   "cell_type": "code",
   "execution_count": 36,
   "id": "501038cd-3ef0-474a-93e4-ee1d571a9553",
   "metadata": {},
   "outputs": [
    {
     "data": {
      "application/vnd.jupyter.widget-view+json": {
       "model_id": "4a42b5cca8e944e0988fbb8b14724592",
       "version_major": 2,
       "version_minor": 0
      },
      "text/plain": [
       "Map:   0%|          | 0/1445 [00:00<?, ? examples/s]"
      ]
     },
     "metadata": {},
     "output_type": "display_data"
    },
    {
     "data": {
      "application/vnd.jupyter.widget-view+json": {
       "model_id": "e461aaabcd214a27acb4c79d947f40e1",
       "version_major": 2,
       "version_minor": 0
      },
      "text/plain": [
       "Map:   0%|          | 0/363 [00:00<?, ? examples/s]"
      ]
     },
     "metadata": {},
     "output_type": "display_data"
    },
    {
     "data": {
      "application/vnd.jupyter.widget-view+json": {
       "model_id": "7ff5376828ef40209848e56074f988d6",
       "version_major": 2,
       "version_minor": 0
      },
      "text/plain": [
       "Map:   0%|          | 0/406 [00:00<?, ? examples/s]"
      ]
     },
     "metadata": {},
     "output_type": "display_data"
    }
   ],
   "source": [
    "encoded_dataset = dataset_dict.map(preprocess_function, batched=True)"
   ]
  },
  {
   "cell_type": "code",
   "execution_count": 37,
   "id": "708dfab6-05e6-48b2-82ea-f0ad4f8a692d",
   "metadata": {},
   "outputs": [
    {
     "name": "stderr",
     "output_type": "stream",
     "text": [
      "loading configuration file https://huggingface.co/bert-base-uncased/resolve/main/config.json from cache at /sailhome/joetey/.cache/huggingface/transformers/3c61d016573b14f7f008c02c4e51a366c67ab274726fe2910691e2a761acf43e.37395cee442ab11005bcd270f3c34464dc1704b715b5d7d52b1a461abe3b9e4e\n",
      "Model config BertConfig {\n",
      "  \"_name_or_path\": \"bert-base-uncased\",\n",
      "  \"architectures\": [\n",
      "    \"BertForMaskedLM\"\n",
      "  ],\n",
      "  \"attention_probs_dropout_prob\": 0.1,\n",
      "  \"classifier_dropout\": null,\n",
      "  \"gradient_checkpointing\": false,\n",
      "  \"hidden_act\": \"gelu\",\n",
      "  \"hidden_dropout_prob\": 0.1,\n",
      "  \"hidden_size\": 768,\n",
      "  \"id2label\": {\n",
      "    \"0\": \"LABEL_0\",\n",
      "    \"1\": \"LABEL_1\",\n",
      "    \"2\": \"LABEL_2\"\n",
      "  },\n",
      "  \"initializer_range\": 0.02,\n",
      "  \"intermediate_size\": 3072,\n",
      "  \"label2id\": {\n",
      "    \"LABEL_0\": 0,\n",
      "    \"LABEL_1\": 1,\n",
      "    \"LABEL_2\": 2\n",
      "  },\n",
      "  \"layer_norm_eps\": 1e-12,\n",
      "  \"max_position_embeddings\": 512,\n",
      "  \"model_type\": \"bert\",\n",
      "  \"num_attention_heads\": 12,\n",
      "  \"num_hidden_layers\": 12,\n",
      "  \"pad_token_id\": 0,\n",
      "  \"position_embedding_type\": \"absolute\",\n",
      "  \"transformers_version\": \"4.17.0\",\n",
      "  \"type_vocab_size\": 2,\n",
      "  \"use_cache\": true,\n",
      "  \"vocab_size\": 30522\n",
      "}\n",
      "\n",
      "loading weights file https://huggingface.co/bert-base-uncased/resolve/main/pytorch_model.bin from cache at /sailhome/joetey/.cache/huggingface/transformers/a8041bf617d7f94ea26d15e218abd04afc2004805632abc0ed2066aa16d50d04.faf6ea826ae9c5867d12b22257f9877e6b8367890837bd60f7c54a29633f7f2f\n",
      "Some weights of the model checkpoint at bert-base-uncased were not used when initializing BertForSequenceClassification: ['cls.predictions.transform.LayerNorm.weight', 'cls.seq_relationship.weight', 'cls.predictions.transform.LayerNorm.bias', 'cls.seq_relationship.bias', 'cls.predictions.transform.dense.weight', 'cls.predictions.bias', 'cls.predictions.transform.dense.bias', 'cls.predictions.decoder.weight']\n",
      "- This IS expected if you are initializing BertForSequenceClassification from the checkpoint of a model trained on another task or with another architecture (e.g. initializing a BertForSequenceClassification model from a BertForPreTraining model).\n",
      "- This IS NOT expected if you are initializing BertForSequenceClassification from the checkpoint of a model that you expect to be exactly identical (initializing a BertForSequenceClassification model from a BertForSequenceClassification model).\n",
      "Some weights of BertForSequenceClassification were not initialized from the model checkpoint at bert-base-uncased and are newly initialized: ['classifier.bias', 'classifier.weight']\n",
      "You should probably TRAIN this model on a down-stream task to be able to use it for predictions and inference.\n"
     ]
    }
   ],
   "source": [
    "from transformers import AutoModelForSequenceClassification, TrainingArguments, Trainer\n",
    "\n",
    "num_labels = 3\n",
    "model = AutoModelForSequenceClassification.from_pretrained(model_checkpoint, num_labels=num_labels)"
   ]
  },
  {
   "cell_type": "code",
   "execution_count": 77,
   "id": "224c3850-7ba9-4de8-8eb6-8cab3bca116c",
   "metadata": {},
   "outputs": [
    {
     "name": "stderr",
     "output_type": "stream",
     "text": [
      "PyTorch: setting up devices\n",
      "The default value for the training argument `--report_to` will change in v5 (from all installed integrations to none). In v5, you will need to use `--report_to all` to get the same behavior as now. You should start updating your code and make this info disappear :-).\n"
     ]
    }
   ],
   "source": [
    "from transformers import TrainingArguments\n",
    "metric_name = \"accuracy\"\n",
    "model_name = model_checkpoint.split(\"/\")[-1]\n",
    "\n",
    "args = TrainingArguments(\n",
    "    f\"{model_name}-finetuned-{task}\",\n",
    "    evaluation_strategy = \"epoch\",\n",
    "    save_strategy = \"epoch\",\n",
    "    learning_rate=2e-5,\n",
    "    per_device_train_batch_size=batch_size,\n",
    "    per_device_eval_batch_size=batch_size,\n",
    "    num_train_epochs=5,\n",
    "    weight_decay=0.01,\n",
    "    load_best_model_at_end=True,\n",
    "    metric_for_best_model=metric_name,\n",
    "    push_to_hub=True,\n",
    ")"
   ]
  },
  {
   "cell_type": "code",
   "execution_count": 78,
   "id": "a7d59859-21f2-4e06-8ded-07a3914755cf",
   "metadata": {},
   "outputs": [],
   "source": [
    "import evaluate\n",
    "metric = evaluate.load(\"accuracy\")\n",
    "\n",
    "def compute_metrics(eval_pred):\n",
    "    predictions, labels = eval_pred\n",
    "    predictions = np.argmax(predictions, axis=1)\n",
    "\n",
    "    kappa_score = cohen_kappa_score(\n",
    "        labels, predictions, weights=\"quadratic\", sample_weight=None\n",
    "    )\n",
    "\n",
    "    accuracy_results = metric.compute(predictions=predictions, references=labels)\n",
    "    \n",
    "    return {\n",
    "        \"accuracy\": accuracy_results[\"accuracy\"],\n",
    "        \"qwk\": kappa_score\n",
    "    }\n",
    "\n",
    "# eval_pred = (\n",
    "#     np.array([[0.1, 0.9, 0.0], [0.8, 0.1, 0.1], [0.2, 0.3, 0.5]]),  # predictions\n",
    "#     np.array([1, 0, 2])  # labels\n",
    "# )\n",
    "\n",
    "# compute_metrics(eval_pred)\n"
   ]
  },
  {
   "cell_type": "code",
   "execution_count": 86,
   "id": "24ef3f15-ec4c-49d3-be51-9cd487e18b56",
   "metadata": {},
   "outputs": [
    {
     "name": "stderr",
     "output_type": "stream",
     "text": [
      "/piech/u/joetey/auto-ed-coder/venv/lib/python3.10/site-packages/huggingface_hub/utils/_deprecation.py:131: FutureWarning: 'Repository' (from 'huggingface_hub.repository') is deprecated and will be removed from version '1.0'. Please prefer the http-based alternatives instead. Given its large adoption in legacy code, the complete removal is only planned on next major release.\n",
      "For more details, please read https://huggingface.co/docs/huggingface_hub/concepts/git_vs_http.\n",
      "  warnings.warn(warning_message, FutureWarning)\n",
      "/piech/u/joetey/auto-ed-coder/bert-encoder-fine-tuned-sae/bert-base-uncased-finetuned-set_3 is already a clone of https://huggingface.co/joetey/bert-base-uncased-finetuned-set_3. Make sure you pull the latest changes with `repo.git_pull()`.\n"
     ]
    }
   ],
   "source": [
    "validation_key = \"valid\"\n",
    "trainer = Trainer(\n",
    "    model,\n",
    "    args,\n",
    "    train_dataset=encoded_dataset[\"train\"],\n",
    "    eval_dataset=encoded_dataset[validation_key],\n",
    "    tokenizer=tokenizer,\n",
    "    compute_metrics=compute_metrics\n",
    ")"
   ]
  },
  {
   "cell_type": "code",
   "execution_count": 87,
   "id": "4ca8ca19-b14f-456b-8f36-f17429d81a46",
   "metadata": {},
   "outputs": [
    {
     "name": "stderr",
     "output_type": "stream",
     "text": [
      "The following columns in the training set  don't have a corresponding argument in `BertForSequenceClassification.forward` and have been ignored: essay, __index_level_0__, idx. If essay, __index_level_0__, idx are not expected by `BertForSequenceClassification.forward`,  you can safely ignore this message.\n",
      "/piech/u/joetey/auto-ed-coder/venv/lib/python3.10/site-packages/transformers/optimization.py:306: FutureWarning: This implementation of AdamW is deprecated and will be removed in a future version. Use the PyTorch implementation torch.optim.AdamW instead, or set `no_deprecation_warning=True` to disable this warning\n",
      "  warnings.warn(\n",
      "***** Running training *****\n",
      "  Num examples = 1445\n",
      "  Num Epochs = 5\n",
      "  Instantaneous batch size per device = 16\n",
      "  Total train batch size (w. parallel, distributed & accumulation) = 16\n",
      "  Gradient Accumulation steps = 1\n",
      "  Total optimization steps = 455\n"
     ]
    },
    {
     "data": {
      "text/html": [
       "\n",
       "    <div>\n",
       "      \n",
       "      <progress value='455' max='455' style='width:300px; height:20px; vertical-align: middle;'></progress>\n",
       "      [455/455 01:52, Epoch 5/5]\n",
       "    </div>\n",
       "    <table border=\"1\" class=\"dataframe\">\n",
       "  <thead>\n",
       " <tr style=\"text-align: left;\">\n",
       "      <th>Epoch</th>\n",
       "      <th>Training Loss</th>\n",
       "      <th>Validation Loss</th>\n",
       "      <th>Accuracy</th>\n",
       "      <th>Qwk</th>\n",
       "    </tr>\n",
       "  </thead>\n",
       "  <tbody>\n",
       "    <tr>\n",
       "      <td>1</td>\n",
       "      <td>No log</td>\n",
       "      <td>2.347965</td>\n",
       "      <td>0.724518</td>\n",
       "      <td>0.651925</td>\n",
       "    </tr>\n",
       "    <tr>\n",
       "      <td>2</td>\n",
       "      <td>No log</td>\n",
       "      <td>2.161516</td>\n",
       "      <td>0.727273</td>\n",
       "      <td>0.682706</td>\n",
       "    </tr>\n",
       "    <tr>\n",
       "      <td>3</td>\n",
       "      <td>No log</td>\n",
       "      <td>2.233676</td>\n",
       "      <td>0.710744</td>\n",
       "      <td>0.673860</td>\n",
       "    </tr>\n",
       "    <tr>\n",
       "      <td>4</td>\n",
       "      <td>No log</td>\n",
       "      <td>2.159846</td>\n",
       "      <td>0.721763</td>\n",
       "      <td>0.701905</td>\n",
       "    </tr>\n",
       "    <tr>\n",
       "      <td>5</td>\n",
       "      <td>No log</td>\n",
       "      <td>2.186488</td>\n",
       "      <td>0.730028</td>\n",
       "      <td>0.693707</td>\n",
       "    </tr>\n",
       "  </tbody>\n",
       "</table><p>"
      ],
      "text/plain": [
       "<IPython.core.display.HTML object>"
      ]
     },
     "metadata": {},
     "output_type": "display_data"
    },
    {
     "name": "stderr",
     "output_type": "stream",
     "text": [
      "The following columns in the evaluation set  don't have a corresponding argument in `BertForSequenceClassification.forward` and have been ignored: essay, __index_level_0__, idx. If essay, __index_level_0__, idx are not expected by `BertForSequenceClassification.forward`,  you can safely ignore this message.\n",
      "***** Running Evaluation *****\n",
      "  Num examples = 363\n",
      "  Batch size = 16\n",
      "Saving model checkpoint to bert-base-uncased-finetuned-set_3/checkpoint-91\n",
      "Configuration saved in bert-base-uncased-finetuned-set_3/checkpoint-91/config.json\n",
      "Model weights saved in bert-base-uncased-finetuned-set_3/checkpoint-91/pytorch_model.bin\n",
      "tokenizer config file saved in bert-base-uncased-finetuned-set_3/checkpoint-91/tokenizer_config.json\n",
      "Special tokens file saved in bert-base-uncased-finetuned-set_3/checkpoint-91/special_tokens_map.json\n",
      "tokenizer config file saved in bert-base-uncased-finetuned-set_3/tokenizer_config.json\n",
      "Special tokens file saved in bert-base-uncased-finetuned-set_3/special_tokens_map.json\n",
      "The following columns in the evaluation set  don't have a corresponding argument in `BertForSequenceClassification.forward` and have been ignored: essay, __index_level_0__, idx. If essay, __index_level_0__, idx are not expected by `BertForSequenceClassification.forward`,  you can safely ignore this message.\n",
      "***** Running Evaluation *****\n",
      "  Num examples = 363\n",
      "  Batch size = 16\n",
      "Saving model checkpoint to bert-base-uncased-finetuned-set_3/checkpoint-182\n",
      "Configuration saved in bert-base-uncased-finetuned-set_3/checkpoint-182/config.json\n",
      "Model weights saved in bert-base-uncased-finetuned-set_3/checkpoint-182/pytorch_model.bin\n",
      "tokenizer config file saved in bert-base-uncased-finetuned-set_3/checkpoint-182/tokenizer_config.json\n",
      "Special tokens file saved in bert-base-uncased-finetuned-set_3/checkpoint-182/special_tokens_map.json\n",
      "The following columns in the evaluation set  don't have a corresponding argument in `BertForSequenceClassification.forward` and have been ignored: essay, __index_level_0__, idx. If essay, __index_level_0__, idx are not expected by `BertForSequenceClassification.forward`,  you can safely ignore this message.\n",
      "***** Running Evaluation *****\n",
      "  Num examples = 363\n",
      "  Batch size = 16\n",
      "Saving model checkpoint to bert-base-uncased-finetuned-set_3/checkpoint-273\n",
      "Configuration saved in bert-base-uncased-finetuned-set_3/checkpoint-273/config.json\n",
      "Model weights saved in bert-base-uncased-finetuned-set_3/checkpoint-273/pytorch_model.bin\n",
      "tokenizer config file saved in bert-base-uncased-finetuned-set_3/checkpoint-273/tokenizer_config.json\n",
      "Special tokens file saved in bert-base-uncased-finetuned-set_3/checkpoint-273/special_tokens_map.json\n",
      "tokenizer config file saved in bert-base-uncased-finetuned-set_3/tokenizer_config.json\n",
      "Special tokens file saved in bert-base-uncased-finetuned-set_3/special_tokens_map.json\n",
      "The following columns in the evaluation set  don't have a corresponding argument in `BertForSequenceClassification.forward` and have been ignored: essay, __index_level_0__, idx. If essay, __index_level_0__, idx are not expected by `BertForSequenceClassification.forward`,  you can safely ignore this message.\n",
      "***** Running Evaluation *****\n",
      "  Num examples = 363\n",
      "  Batch size = 16\n",
      "Saving model checkpoint to bert-base-uncased-finetuned-set_3/checkpoint-364\n",
      "Configuration saved in bert-base-uncased-finetuned-set_3/checkpoint-364/config.json\n",
      "Model weights saved in bert-base-uncased-finetuned-set_3/checkpoint-364/pytorch_model.bin\n",
      "tokenizer config file saved in bert-base-uncased-finetuned-set_3/checkpoint-364/tokenizer_config.json\n",
      "Special tokens file saved in bert-base-uncased-finetuned-set_3/checkpoint-364/special_tokens_map.json\n",
      "The following columns in the evaluation set  don't have a corresponding argument in `BertForSequenceClassification.forward` and have been ignored: essay, __index_level_0__, idx. If essay, __index_level_0__, idx are not expected by `BertForSequenceClassification.forward`,  you can safely ignore this message.\n",
      "***** Running Evaluation *****\n",
      "  Num examples = 363\n",
      "  Batch size = 16\n",
      "Saving model checkpoint to bert-base-uncased-finetuned-set_3/checkpoint-455\n",
      "Configuration saved in bert-base-uncased-finetuned-set_3/checkpoint-455/config.json\n",
      "Model weights saved in bert-base-uncased-finetuned-set_3/checkpoint-455/pytorch_model.bin\n",
      "tokenizer config file saved in bert-base-uncased-finetuned-set_3/checkpoint-455/tokenizer_config.json\n",
      "Special tokens file saved in bert-base-uncased-finetuned-set_3/checkpoint-455/special_tokens_map.json\n",
      "tokenizer config file saved in bert-base-uncased-finetuned-set_3/tokenizer_config.json\n",
      "Special tokens file saved in bert-base-uncased-finetuned-set_3/special_tokens_map.json\n",
      "\n",
      "\n",
      "Training completed. Do not forget to share your model on huggingface.co/models =)\n",
      "\n",
      "\n",
      "Loading best model from bert-base-uncased-finetuned-set_3/checkpoint-455 (score: 0.7300275482093664).\n"
     ]
    },
    {
     "data": {
      "text/plain": [
       "TrainOutput(global_step=455, training_loss=0.03982792529431018, metrics={'train_runtime': 112.4553, 'train_samples_per_second': 64.248, 'train_steps_per_second': 4.046, 'total_flos': 367147024196148.0, 'train_loss': 0.03982792529431018, 'epoch': 5.0})"
      ]
     },
     "execution_count": 87,
     "metadata": {},
     "output_type": "execute_result"
    }
   ],
   "source": [
    "trainer.train()"
   ]
  },
  {
   "cell_type": "code",
   "execution_count": 88,
   "id": "eb935dd1-665c-4aad-af3d-9e3c15868640",
   "metadata": {},
   "outputs": [
    {
     "name": "stderr",
     "output_type": "stream",
     "text": [
      "The following columns in the evaluation set  don't have a corresponding argument in `BertForSequenceClassification.forward` and have been ignored: essay, __index_level_0__, idx. If essay, __index_level_0__, idx are not expected by `BertForSequenceClassification.forward`,  you can safely ignore this message.\n",
      "***** Running Evaluation *****\n",
      "  Num examples = 363\n",
      "  Batch size = 16\n"
     ]
    },
    {
     "data": {
      "text/html": [
       "\n",
       "    <div>\n",
       "      \n",
       "      <progress value='23' max='23' style='width:300px; height:20px; vertical-align: middle;'></progress>\n",
       "      [23/23 00:00]\n",
       "    </div>\n",
       "    "
      ],
      "text/plain": [
       "<IPython.core.display.HTML object>"
      ]
     },
     "metadata": {},
     "output_type": "display_data"
    },
    {
     "data": {
      "text/plain": [
       "{'eval_loss': 2.186487913131714,\n",
       " 'eval_accuracy': 0.7300275482093664,\n",
       " 'eval_qwk': 0.6937067143418073,\n",
       " 'eval_runtime': 0.5653,\n",
       " 'eval_samples_per_second': 642.139,\n",
       " 'eval_steps_per_second': 40.686,\n",
       " 'epoch': 5.0}"
      ]
     },
     "execution_count": 88,
     "metadata": {},
     "output_type": "execute_result"
    }
   ],
   "source": [
    "trainer.evaluate()"
   ]
  },
  {
   "cell_type": "code",
   "execution_count": 89,
   "id": "66678296-f422-4749-9a79-97007332c89e",
   "metadata": {},
   "outputs": [
    {
     "name": "stderr",
     "output_type": "stream",
     "text": [
      "Saving model checkpoint to bert-base-uncased-finetuned-set_3\n",
      "Configuration saved in bert-base-uncased-finetuned-set_3/config.json\n",
      "Model weights saved in bert-base-uncased-finetuned-set_3/pytorch_model.bin\n",
      "tokenizer config file saved in bert-base-uncased-finetuned-set_3/tokenizer_config.json\n",
      "Special tokens file saved in bert-base-uncased-finetuned-set_3/special_tokens_map.json\n",
      "Dropping the following result as it does not have all the necessary fields:\n",
      "{'task': {'name': 'Text Classification', 'type': 'text-classification'}, 'metrics': [{'name': 'Accuracy', 'type': 'accuracy', 'value': 0.7300275482093664}]}\n",
      "To https://huggingface.co/joetey/bert-base-uncased-finetuned-set_3\n",
      "   42d7365..92ce2c6  main -> main\n",
      "\n"
     ]
    }
   ],
   "source": [
    "trainer.push_to_hub()"
   ]
  },
  {
   "cell_type": "code",
   "execution_count": null,
   "id": "1ae5d2ed-1b5b-4d28-b93f-17efad77aadb",
   "metadata": {},
   "outputs": [],
   "source": []
  }
 ],
 "metadata": {
  "kernelspec": {
   "display_name": "Python 3 (ipykernel)",
   "language": "python",
   "name": "python3"
  },
  "language_info": {
   "codemirror_mode": {
    "name": "ipython",
    "version": 3
   },
   "file_extension": ".py",
   "mimetype": "text/x-python",
   "name": "python",
   "nbconvert_exporter": "python",
   "pygments_lexer": "ipython3",
   "version": "3.10.14"
  }
 },
 "nbformat": 4,
 "nbformat_minor": 5
}
